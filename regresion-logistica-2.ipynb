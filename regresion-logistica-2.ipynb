{
 "cells": [
  {
   "cell_type": "code",
   "execution_count": 1,
   "metadata": {},
   "outputs": [],
   "source": [
    "# Tratamiento de datos\n",
    "# -----------------------------------------------------------------------\n",
    "import numpy as np\n",
    "import pandas as pd\n",
    "import sidetable\n",
    "\n",
    "# Gráficos\n",
    "# ------------------------------------------------------------------------------\n",
    "import matplotlib.pyplot as plt\n",
    "import seaborn as sns\n",
    "\n",
    "# Estandarización variables numéricas y Codificación variables categóricas\n",
    "# ------------------------------------------------------------------------------\n",
    "from sklearn.preprocessing import StandardScaler\n",
    "\n",
    "# Para separar los datos en train y test\n",
    "# ------------------------------------------------------------------------------\n",
    "from sklearn.model_selection import train_test_split\n",
    "\n",
    "#  Gestión de warnings\n",
    "# ------------------------------------------------------------------------------\n",
    "import warnings\n",
    "warnings.filterwarnings(\"ignore\")"
   ]
  },
  {
   "attachments": {},
   "cell_type": "markdown",
   "metadata": {},
   "source": [
    "# Pair Programming Preprocesado\n",
    "\n",
    "Usando el mismo dataset que usatéis ayer, los objetivos de los ejercicios de hoy son:\n",
    "\n",
    "Estandarizar las variables numéricas de vuestro set de datos\n",
    "\n",
    "Codificar las variables categóricas. Recordad que tendréis que tener en cuenta si vuestras variables tienen orden o no.\n",
    "\n",
    "Chequear si vuestros datos están balanceados. En caso de que no lo estén utilizad algunas de las herramientas aprendidas en la lección para balancearlos.\n",
    "\n",
    "Guardad el dataframe con los cambios que habéis aplicado para utilizarlo en la siguiente lección."
   ]
  },
  {
   "cell_type": "code",
   "execution_count": 52,
   "metadata": {},
   "outputs": [
    {
     "data": {
      "text/html": [
       "<div>\n",
       "<style scoped>\n",
       "    .dataframe tbody tr th:only-of-type {\n",
       "        vertical-align: middle;\n",
       "    }\n",
       "\n",
       "    .dataframe tbody tr th {\n",
       "        vertical-align: top;\n",
       "    }\n",
       "\n",
       "    .dataframe thead th {\n",
       "        text-align: right;\n",
       "    }\n",
       "</style>\n",
       "<table border=\"1\" class=\"dataframe\">\n",
       "  <thead>\n",
       "    <tr style=\"text-align: right;\">\n",
       "      <th></th>\n",
       "      <th>satisfaction</th>\n",
       "      <th>Gender</th>\n",
       "      <th>Customer Type</th>\n",
       "      <th>Age</th>\n",
       "      <th>Type of Travel</th>\n",
       "      <th>Class</th>\n",
       "      <th>Flight Distance</th>\n",
       "      <th>Seat comfort</th>\n",
       "      <th>Departure/Arrival time convenient</th>\n",
       "      <th>Food and drink</th>\n",
       "      <th>...</th>\n",
       "      <th>Leg room service</th>\n",
       "      <th>Baggage handling</th>\n",
       "      <th>Checkin service</th>\n",
       "      <th>Cleanliness</th>\n",
       "      <th>Online boarding</th>\n",
       "      <th>Departure Delay in Minutes</th>\n",
       "      <th>Arrival Delay in Minutes</th>\n",
       "      <th>cat_retraso_salida</th>\n",
       "      <th>cat_retraso_llegada</th>\n",
       "      <th>cat_distance</th>\n",
       "    </tr>\n",
       "  </thead>\n",
       "  <tbody>\n",
       "    <tr>\n",
       "      <th>0</th>\n",
       "      <td>satisfied</td>\n",
       "      <td>Female</td>\n",
       "      <td>Loyal Customer</td>\n",
       "      <td>65</td>\n",
       "      <td>Personal Travel</td>\n",
       "      <td>Eco</td>\n",
       "      <td>265</td>\n",
       "      <td>0</td>\n",
       "      <td>0</td>\n",
       "      <td>0</td>\n",
       "      <td>...</td>\n",
       "      <td>0</td>\n",
       "      <td>3</td>\n",
       "      <td>5</td>\n",
       "      <td>3</td>\n",
       "      <td>2</td>\n",
       "      <td>0</td>\n",
       "      <td>0.0</td>\n",
       "      <td>&lt; 15</td>\n",
       "      <td>&lt; 15</td>\n",
       "      <td>&lt;1000</td>\n",
       "    </tr>\n",
       "    <tr>\n",
       "      <th>1</th>\n",
       "      <td>satisfied</td>\n",
       "      <td>Male</td>\n",
       "      <td>Loyal Customer</td>\n",
       "      <td>47</td>\n",
       "      <td>Personal Travel</td>\n",
       "      <td>Business</td>\n",
       "      <td>2464</td>\n",
       "      <td>0</td>\n",
       "      <td>0</td>\n",
       "      <td>0</td>\n",
       "      <td>...</td>\n",
       "      <td>4</td>\n",
       "      <td>4</td>\n",
       "      <td>2</td>\n",
       "      <td>3</td>\n",
       "      <td>2</td>\n",
       "      <td>310</td>\n",
       "      <td>305.0</td>\n",
       "      <td>120+</td>\n",
       "      <td>120+</td>\n",
       "      <td>1000-4000</td>\n",
       "    </tr>\n",
       "  </tbody>\n",
       "</table>\n",
       "<p>2 rows × 26 columns</p>\n",
       "</div>"
      ],
      "text/plain": [
       "  satisfaction  Gender   Customer Type  Age   Type of Travel     Class  \\\n",
       "0    satisfied  Female  Loyal Customer   65  Personal Travel       Eco   \n",
       "1    satisfied    Male  Loyal Customer   47  Personal Travel  Business   \n",
       "\n",
       "   Flight Distance Seat comfort Departure/Arrival time convenient  \\\n",
       "0              265            0                                 0   \n",
       "1             2464            0                                 0   \n",
       "\n",
       "  Food and drink  ... Leg room service Baggage handling Checkin service  \\\n",
       "0              0  ...                0                3               5   \n",
       "1              0  ...                4                4               2   \n",
       "\n",
       "  Cleanliness Online boarding Departure Delay in Minutes  \\\n",
       "0           3               2                          0   \n",
       "1           3               2                        310   \n",
       "\n",
       "  Arrival Delay in Minutes cat_retraso_salida cat_retraso_llegada cat_distance  \n",
       "0                      0.0               < 15                < 15        <1000  \n",
       "1                    305.0               120+                120+    1000-4000  \n",
       "\n",
       "[2 rows x 26 columns]"
      ]
     },
     "execution_count": 52,
     "metadata": {},
     "output_type": "execute_result"
    }
   ],
   "source": [
    "# cargamos el dataframe\n",
    "\n",
    "df = pd.read_pickle('datos/Invistico_Airline_v2.pkl')\n",
    "df.head(2)"
   ]
  },
  {
   "cell_type": "code",
   "execution_count": 53,
   "metadata": {},
   "outputs": [],
   "source": [
    "df.reset_index(inplace=True, drop=True)"
   ]
  },
  {
   "cell_type": "code",
   "execution_count": 54,
   "metadata": {},
   "outputs": [
    {
     "data": {
      "text/html": [
       "<div>\n",
       "<style scoped>\n",
       "    .dataframe tbody tr th:only-of-type {\n",
       "        vertical-align: middle;\n",
       "    }\n",
       "\n",
       "    .dataframe tbody tr th {\n",
       "        vertical-align: top;\n",
       "    }\n",
       "\n",
       "    .dataframe thead th {\n",
       "        text-align: right;\n",
       "    }\n",
       "</style>\n",
       "<table border=\"1\" class=\"dataframe\">\n",
       "  <thead>\n",
       "    <tr style=\"text-align: right;\">\n",
       "      <th></th>\n",
       "      <th>satisfaction</th>\n",
       "      <th>Gender</th>\n",
       "      <th>Customer Type</th>\n",
       "      <th>Age</th>\n",
       "      <th>Type of Travel</th>\n",
       "      <th>Class</th>\n",
       "      <th>Flight Distance</th>\n",
       "      <th>Seat comfort</th>\n",
       "      <th>Departure/Arrival time convenient</th>\n",
       "      <th>Food and drink</th>\n",
       "      <th>...</th>\n",
       "      <th>Leg room service</th>\n",
       "      <th>Baggage handling</th>\n",
       "      <th>Checkin service</th>\n",
       "      <th>Cleanliness</th>\n",
       "      <th>Online boarding</th>\n",
       "      <th>Departure Delay in Minutes</th>\n",
       "      <th>Arrival Delay in Minutes</th>\n",
       "      <th>cat_retraso_salida</th>\n",
       "      <th>cat_retraso_llegada</th>\n",
       "      <th>cat_distance</th>\n",
       "    </tr>\n",
       "  </thead>\n",
       "  <tbody>\n",
       "    <tr>\n",
       "      <th>0</th>\n",
       "      <td>satisfied</td>\n",
       "      <td>Female</td>\n",
       "      <td>Loyal Customer</td>\n",
       "      <td>65</td>\n",
       "      <td>Personal Travel</td>\n",
       "      <td>Eco</td>\n",
       "      <td>265</td>\n",
       "      <td>0</td>\n",
       "      <td>0</td>\n",
       "      <td>0</td>\n",
       "      <td>...</td>\n",
       "      <td>0</td>\n",
       "      <td>3</td>\n",
       "      <td>5</td>\n",
       "      <td>3</td>\n",
       "      <td>2</td>\n",
       "      <td>0</td>\n",
       "      <td>0.0</td>\n",
       "      <td>&lt; 15</td>\n",
       "      <td>&lt; 15</td>\n",
       "      <td>&lt;1000</td>\n",
       "    </tr>\n",
       "    <tr>\n",
       "      <th>1</th>\n",
       "      <td>satisfied</td>\n",
       "      <td>Male</td>\n",
       "      <td>Loyal Customer</td>\n",
       "      <td>47</td>\n",
       "      <td>Personal Travel</td>\n",
       "      <td>Business</td>\n",
       "      <td>2464</td>\n",
       "      <td>0</td>\n",
       "      <td>0</td>\n",
       "      <td>0</td>\n",
       "      <td>...</td>\n",
       "      <td>4</td>\n",
       "      <td>4</td>\n",
       "      <td>2</td>\n",
       "      <td>3</td>\n",
       "      <td>2</td>\n",
       "      <td>310</td>\n",
       "      <td>305.0</td>\n",
       "      <td>120+</td>\n",
       "      <td>120+</td>\n",
       "      <td>1000-4000</td>\n",
       "    </tr>\n",
       "    <tr>\n",
       "      <th>2</th>\n",
       "      <td>satisfied</td>\n",
       "      <td>Female</td>\n",
       "      <td>Loyal Customer</td>\n",
       "      <td>15</td>\n",
       "      <td>Personal Travel</td>\n",
       "      <td>Eco</td>\n",
       "      <td>2138</td>\n",
       "      <td>0</td>\n",
       "      <td>0</td>\n",
       "      <td>0</td>\n",
       "      <td>...</td>\n",
       "      <td>3</td>\n",
       "      <td>4</td>\n",
       "      <td>4</td>\n",
       "      <td>4</td>\n",
       "      <td>2</td>\n",
       "      <td>0</td>\n",
       "      <td>0.0</td>\n",
       "      <td>&lt; 15</td>\n",
       "      <td>&lt; 15</td>\n",
       "      <td>1000-4000</td>\n",
       "    </tr>\n",
       "    <tr>\n",
       "      <th>3</th>\n",
       "      <td>satisfied</td>\n",
       "      <td>Female</td>\n",
       "      <td>Loyal Customer</td>\n",
       "      <td>60</td>\n",
       "      <td>Personal Travel</td>\n",
       "      <td>Eco</td>\n",
       "      <td>623</td>\n",
       "      <td>0</td>\n",
       "      <td>0</td>\n",
       "      <td>0</td>\n",
       "      <td>...</td>\n",
       "      <td>0</td>\n",
       "      <td>1</td>\n",
       "      <td>4</td>\n",
       "      <td>1</td>\n",
       "      <td>3</td>\n",
       "      <td>0</td>\n",
       "      <td>0.0</td>\n",
       "      <td>&lt; 15</td>\n",
       "      <td>&lt; 15</td>\n",
       "      <td>&lt;1000</td>\n",
       "    </tr>\n",
       "    <tr>\n",
       "      <th>4</th>\n",
       "      <td>satisfied</td>\n",
       "      <td>Female</td>\n",
       "      <td>Loyal Customer</td>\n",
       "      <td>70</td>\n",
       "      <td>Personal Travel</td>\n",
       "      <td>Eco</td>\n",
       "      <td>354</td>\n",
       "      <td>0</td>\n",
       "      <td>0</td>\n",
       "      <td>0</td>\n",
       "      <td>...</td>\n",
       "      <td>0</td>\n",
       "      <td>2</td>\n",
       "      <td>4</td>\n",
       "      <td>2</td>\n",
       "      <td>5</td>\n",
       "      <td>0</td>\n",
       "      <td>0.0</td>\n",
       "      <td>&lt; 15</td>\n",
       "      <td>&lt; 15</td>\n",
       "      <td>&lt;1000</td>\n",
       "    </tr>\n",
       "  </tbody>\n",
       "</table>\n",
       "<p>5 rows × 26 columns</p>\n",
       "</div>"
      ],
      "text/plain": [
       "  satisfaction  Gender   Customer Type  Age   Type of Travel     Class  \\\n",
       "0    satisfied  Female  Loyal Customer   65  Personal Travel       Eco   \n",
       "1    satisfied    Male  Loyal Customer   47  Personal Travel  Business   \n",
       "2    satisfied  Female  Loyal Customer   15  Personal Travel       Eco   \n",
       "3    satisfied  Female  Loyal Customer   60  Personal Travel       Eco   \n",
       "4    satisfied  Female  Loyal Customer   70  Personal Travel       Eco   \n",
       "\n",
       "   Flight Distance Seat comfort Departure/Arrival time convenient  \\\n",
       "0              265            0                                 0   \n",
       "1             2464            0                                 0   \n",
       "2             2138            0                                 0   \n",
       "3              623            0                                 0   \n",
       "4              354            0                                 0   \n",
       "\n",
       "  Food and drink  ... Leg room service Baggage handling Checkin service  \\\n",
       "0              0  ...                0                3               5   \n",
       "1              0  ...                4                4               2   \n",
       "2              0  ...                3                4               4   \n",
       "3              0  ...                0                1               4   \n",
       "4              0  ...                0                2               4   \n",
       "\n",
       "  Cleanliness Online boarding Departure Delay in Minutes  \\\n",
       "0           3               2                          0   \n",
       "1           3               2                        310   \n",
       "2           4               2                          0   \n",
       "3           1               3                          0   \n",
       "4           2               5                          0   \n",
       "\n",
       "  Arrival Delay in Minutes cat_retraso_salida cat_retraso_llegada cat_distance  \n",
       "0                      0.0               < 15                < 15        <1000  \n",
       "1                    305.0               120+                120+    1000-4000  \n",
       "2                      0.0               < 15                < 15    1000-4000  \n",
       "3                      0.0               < 15                < 15        <1000  \n",
       "4                      0.0               < 15                < 15        <1000  \n",
       "\n",
       "[5 rows x 26 columns]"
      ]
     },
     "execution_count": 54,
     "metadata": {},
     "output_type": "execute_result"
    }
   ],
   "source": [
    "df.head()"
   ]
  },
  {
   "cell_type": "code",
   "execution_count": 55,
   "metadata": {},
   "outputs": [
    {
     "data": {
      "text/plain": [
       "RangeIndex(start=0, stop=129487, step=1)"
      ]
     },
     "execution_count": 55,
     "metadata": {},
     "output_type": "execute_result"
    }
   ],
   "source": [
    "df.index"
   ]
  },
  {
   "attachments": {},
   "cell_type": "markdown",
   "metadata": {},
   "source": [
    "## Estandarización"
   ]
  },
  {
   "cell_type": "code",
   "execution_count": 56,
   "metadata": {},
   "outputs": [
    {
     "data": {
      "text/html": [
       "<div>\n",
       "<style scoped>\n",
       "    .dataframe tbody tr th:only-of-type {\n",
       "        vertical-align: middle;\n",
       "    }\n",
       "\n",
       "    .dataframe tbody tr th {\n",
       "        vertical-align: top;\n",
       "    }\n",
       "\n",
       "    .dataframe thead th {\n",
       "        text-align: right;\n",
       "    }\n",
       "</style>\n",
       "<table border=\"1\" class=\"dataframe\">\n",
       "  <thead>\n",
       "    <tr style=\"text-align: right;\">\n",
       "      <th></th>\n",
       "      <th>Age</th>\n",
       "      <th>Flight Distance</th>\n",
       "      <th>Departure Delay in Minutes</th>\n",
       "      <th>Arrival Delay in Minutes</th>\n",
       "    </tr>\n",
       "  </thead>\n",
       "  <tbody>\n",
       "    <tr>\n",
       "      <th>0</th>\n",
       "      <td>65</td>\n",
       "      <td>265</td>\n",
       "      <td>0</td>\n",
       "      <td>0.0</td>\n",
       "    </tr>\n",
       "    <tr>\n",
       "      <th>1</th>\n",
       "      <td>47</td>\n",
       "      <td>2464</td>\n",
       "      <td>310</td>\n",
       "      <td>305.0</td>\n",
       "    </tr>\n",
       "  </tbody>\n",
       "</table>\n",
       "</div>"
      ],
      "text/plain": [
       "   Age  Flight Distance  Departure Delay in Minutes  Arrival Delay in Minutes\n",
       "0   65              265                           0                       0.0\n",
       "1   47             2464                         310                     305.0"
      ]
     },
     "execution_count": 56,
     "metadata": {},
     "output_type": "execute_result"
    }
   ],
   "source": [
    "# creamos un dataframe de las variables numéricas\n",
    "\n",
    "df_num = df.select_dtypes(include=np.number)\n",
    "df_num.head(2)"
   ]
  },
  {
   "cell_type": "code",
   "execution_count": 57,
   "metadata": {},
   "outputs": [
    {
     "data": {
      "text/plain": [
       "(129487, 4)"
      ]
     },
     "execution_count": 57,
     "metadata": {},
     "output_type": "execute_result"
    }
   ],
   "source": [
    "df_num.shape"
   ]
  },
  {
   "cell_type": "code",
   "execution_count": 58,
   "metadata": {},
   "outputs": [
    {
     "data": {
      "text/plain": [
       "RangeIndex(start=0, stop=129487, step=1)"
      ]
     },
     "execution_count": 58,
     "metadata": {},
     "output_type": "execute_result"
    }
   ],
   "source": [
    "df.index"
   ]
  },
  {
   "cell_type": "code",
   "execution_count": 59,
   "metadata": {},
   "outputs": [],
   "source": [
    "# estandarizamos los datos usando el StandardScaler de la libreria de Sklearn\n",
    "scaler = StandardScaler()\n",
    "scaler.fit(df_num)\n",
    "datos_estandarizados = scaler.transform(df_num)\n",
    "df_datos_estandarizados = pd.DataFrame(datos_estandarizados, columns = df_num.columns)"
   ]
  },
  {
   "cell_type": "code",
   "execution_count": 60,
   "metadata": {},
   "outputs": [
    {
     "data": {
      "text/html": [
       "<div>\n",
       "<style scoped>\n",
       "    .dataframe tbody tr th:only-of-type {\n",
       "        vertical-align: middle;\n",
       "    }\n",
       "\n",
       "    .dataframe tbody tr th {\n",
       "        vertical-align: top;\n",
       "    }\n",
       "\n",
       "    .dataframe thead th {\n",
       "        text-align: right;\n",
       "    }\n",
       "</style>\n",
       "<table border=\"1\" class=\"dataframe\">\n",
       "  <thead>\n",
       "    <tr style=\"text-align: right;\">\n",
       "      <th></th>\n",
       "      <th>Age</th>\n",
       "      <th>Flight Distance</th>\n",
       "      <th>Departure Delay in Minutes</th>\n",
       "      <th>Arrival Delay in Minutes</th>\n",
       "    </tr>\n",
       "  </thead>\n",
       "  <tbody>\n",
       "    <tr>\n",
       "      <th>0</th>\n",
       "      <td>1.691495</td>\n",
       "      <td>-1.671090</td>\n",
       "      <td>-0.386036</td>\n",
       "      <td>-0.392329</td>\n",
       "    </tr>\n",
       "    <tr>\n",
       "      <th>1</th>\n",
       "      <td>0.500825</td>\n",
       "      <td>0.470348</td>\n",
       "      <td>7.786328</td>\n",
       "      <td>7.536854</td>\n",
       "    </tr>\n",
       "    <tr>\n",
       "      <th>2</th>\n",
       "      <td>-1.615922</td>\n",
       "      <td>0.152882</td>\n",
       "      <td>-0.386036</td>\n",
       "      <td>-0.392329</td>\n",
       "    </tr>\n",
       "    <tr>\n",
       "      <th>3</th>\n",
       "      <td>1.360753</td>\n",
       "      <td>-1.322461</td>\n",
       "      <td>-0.386036</td>\n",
       "      <td>-0.392329</td>\n",
       "    </tr>\n",
       "    <tr>\n",
       "      <th>4</th>\n",
       "      <td>2.022237</td>\n",
       "      <td>-1.584420</td>\n",
       "      <td>-0.386036</td>\n",
       "      <td>-0.392329</td>\n",
       "    </tr>\n",
       "    <tr>\n",
       "      <th>5</th>\n",
       "      <td>-0.623697</td>\n",
       "      <td>-0.084731</td>\n",
       "      <td>-0.386036</td>\n",
       "      <td>-0.392329</td>\n",
       "    </tr>\n",
       "    <tr>\n",
       "      <th>6</th>\n",
       "      <td>1.757643</td>\n",
       "      <td>-1.708095</td>\n",
       "      <td>0.062126</td>\n",
       "      <td>-0.002369</td>\n",
       "    </tr>\n",
       "    <tr>\n",
       "      <th>7</th>\n",
       "      <td>-1.946664</td>\n",
       "      <td>-0.164585</td>\n",
       "      <td>-0.386036</td>\n",
       "      <td>-0.392329</td>\n",
       "    </tr>\n",
       "    <tr>\n",
       "      <th>8</th>\n",
       "      <td>1.096160</td>\n",
       "      <td>-1.858064</td>\n",
       "      <td>-0.386036</td>\n",
       "      <td>-0.392329</td>\n",
       "    </tr>\n",
       "    <tr>\n",
       "      <th>9</th>\n",
       "      <td>-1.152884</td>\n",
       "      <td>-0.413884</td>\n",
       "      <td>0.404838</td>\n",
       "      <td>0.283601</td>\n",
       "    </tr>\n",
       "  </tbody>\n",
       "</table>\n",
       "</div>"
      ],
      "text/plain": [
       "        Age  Flight Distance  Departure Delay in Minutes  \\\n",
       "0  1.691495        -1.671090                   -0.386036   \n",
       "1  0.500825         0.470348                    7.786328   \n",
       "2 -1.615922         0.152882                   -0.386036   \n",
       "3  1.360753        -1.322461                   -0.386036   \n",
       "4  2.022237        -1.584420                   -0.386036   \n",
       "5 -0.623697        -0.084731                   -0.386036   \n",
       "6  1.757643        -1.708095                    0.062126   \n",
       "7 -1.946664        -0.164585                   -0.386036   \n",
       "8  1.096160        -1.858064                   -0.386036   \n",
       "9 -1.152884        -0.413884                    0.404838   \n",
       "\n",
       "   Arrival Delay in Minutes  \n",
       "0                 -0.392329  \n",
       "1                  7.536854  \n",
       "2                 -0.392329  \n",
       "3                 -0.392329  \n",
       "4                 -0.392329  \n",
       "5                 -0.392329  \n",
       "6                 -0.002369  \n",
       "7                 -0.392329  \n",
       "8                 -0.392329  \n",
       "9                  0.283601  "
      ]
     },
     "execution_count": 60,
     "metadata": {},
     "output_type": "execute_result"
    }
   ],
   "source": [
    "df_datos_estandarizados.head(10)"
   ]
  },
  {
   "cell_type": "code",
   "execution_count": 61,
   "metadata": {},
   "outputs": [
    {
     "data": {
      "text/plain": [
       "(129487, 4)"
      ]
     },
     "execution_count": 61,
     "metadata": {},
     "output_type": "execute_result"
    }
   ],
   "source": [
    "df_datos_estandarizados.shape"
   ]
  },
  {
   "cell_type": "code",
   "execution_count": 62,
   "metadata": {},
   "outputs": [
    {
     "data": {
      "text/plain": [
       "(129487, 26)"
      ]
     },
     "execution_count": 62,
     "metadata": {},
     "output_type": "execute_result"
    }
   ],
   "source": [
    "df.shape"
   ]
  },
  {
   "cell_type": "code",
   "execution_count": 63,
   "metadata": {},
   "outputs": [
    {
     "data": {
      "text/plain": [
       "(129487, 4)"
      ]
     },
     "execution_count": 63,
     "metadata": {},
     "output_type": "execute_result"
    }
   ],
   "source": [
    "df_num.shape"
   ]
  },
  {
   "cell_type": "code",
   "execution_count": 64,
   "metadata": {},
   "outputs": [],
   "source": [
    "df.drop(columns=df_datos_estandarizados.columns, inplace=True)"
   ]
  },
  {
   "cell_type": "code",
   "execution_count": 65,
   "metadata": {},
   "outputs": [
    {
     "data": {
      "text/plain": [
       "(129487, 22)"
      ]
     },
     "execution_count": 65,
     "metadata": {},
     "output_type": "execute_result"
    }
   ],
   "source": [
    "df.shape"
   ]
  },
  {
   "cell_type": "code",
   "execution_count": 66,
   "metadata": {},
   "outputs": [
    {
     "data": {
      "text/html": [
       "<div>\n",
       "<style scoped>\n",
       "    .dataframe tbody tr th:only-of-type {\n",
       "        vertical-align: middle;\n",
       "    }\n",
       "\n",
       "    .dataframe tbody tr th {\n",
       "        vertical-align: top;\n",
       "    }\n",
       "\n",
       "    .dataframe thead th {\n",
       "        text-align: right;\n",
       "    }\n",
       "</style>\n",
       "<table border=\"1\" class=\"dataframe\">\n",
       "  <thead>\n",
       "    <tr style=\"text-align: right;\">\n",
       "      <th></th>\n",
       "      <th>satisfaction</th>\n",
       "      <th>Gender</th>\n",
       "      <th>Customer Type</th>\n",
       "      <th>Type of Travel</th>\n",
       "      <th>Class</th>\n",
       "      <th>Seat comfort</th>\n",
       "      <th>Departure/Arrival time convenient</th>\n",
       "      <th>Food and drink</th>\n",
       "      <th>Gate location</th>\n",
       "      <th>Inflight wifi service</th>\n",
       "      <th>...</th>\n",
       "      <th>Checkin service</th>\n",
       "      <th>Cleanliness</th>\n",
       "      <th>Online boarding</th>\n",
       "      <th>cat_retraso_salida</th>\n",
       "      <th>cat_retraso_llegada</th>\n",
       "      <th>cat_distance</th>\n",
       "      <th>Age</th>\n",
       "      <th>Flight Distance</th>\n",
       "      <th>Departure Delay in Minutes</th>\n",
       "      <th>Arrival Delay in Minutes</th>\n",
       "    </tr>\n",
       "  </thead>\n",
       "  <tbody>\n",
       "    <tr>\n",
       "      <th>0</th>\n",
       "      <td>satisfied</td>\n",
       "      <td>Female</td>\n",
       "      <td>Loyal Customer</td>\n",
       "      <td>Personal Travel</td>\n",
       "      <td>Eco</td>\n",
       "      <td>0</td>\n",
       "      <td>0</td>\n",
       "      <td>0</td>\n",
       "      <td>2</td>\n",
       "      <td>2</td>\n",
       "      <td>...</td>\n",
       "      <td>5</td>\n",
       "      <td>3</td>\n",
       "      <td>2</td>\n",
       "      <td>&lt; 15</td>\n",
       "      <td>&lt; 15</td>\n",
       "      <td>&lt;1000</td>\n",
       "      <td>1.691495</td>\n",
       "      <td>-1.671090</td>\n",
       "      <td>-0.386036</td>\n",
       "      <td>-0.392329</td>\n",
       "    </tr>\n",
       "    <tr>\n",
       "      <th>1</th>\n",
       "      <td>satisfied</td>\n",
       "      <td>Male</td>\n",
       "      <td>Loyal Customer</td>\n",
       "      <td>Personal Travel</td>\n",
       "      <td>Business</td>\n",
       "      <td>0</td>\n",
       "      <td>0</td>\n",
       "      <td>0</td>\n",
       "      <td>3</td>\n",
       "      <td>0</td>\n",
       "      <td>...</td>\n",
       "      <td>2</td>\n",
       "      <td>3</td>\n",
       "      <td>2</td>\n",
       "      <td>120+</td>\n",
       "      <td>120+</td>\n",
       "      <td>1000-4000</td>\n",
       "      <td>0.500825</td>\n",
       "      <td>0.470348</td>\n",
       "      <td>7.786328</td>\n",
       "      <td>7.536854</td>\n",
       "    </tr>\n",
       "    <tr>\n",
       "      <th>2</th>\n",
       "      <td>satisfied</td>\n",
       "      <td>Female</td>\n",
       "      <td>Loyal Customer</td>\n",
       "      <td>Personal Travel</td>\n",
       "      <td>Eco</td>\n",
       "      <td>0</td>\n",
       "      <td>0</td>\n",
       "      <td>0</td>\n",
       "      <td>3</td>\n",
       "      <td>2</td>\n",
       "      <td>...</td>\n",
       "      <td>4</td>\n",
       "      <td>4</td>\n",
       "      <td>2</td>\n",
       "      <td>&lt; 15</td>\n",
       "      <td>&lt; 15</td>\n",
       "      <td>1000-4000</td>\n",
       "      <td>-1.615922</td>\n",
       "      <td>0.152882</td>\n",
       "      <td>-0.386036</td>\n",
       "      <td>-0.392329</td>\n",
       "    </tr>\n",
       "    <tr>\n",
       "      <th>3</th>\n",
       "      <td>satisfied</td>\n",
       "      <td>Female</td>\n",
       "      <td>Loyal Customer</td>\n",
       "      <td>Personal Travel</td>\n",
       "      <td>Eco</td>\n",
       "      <td>0</td>\n",
       "      <td>0</td>\n",
       "      <td>0</td>\n",
       "      <td>3</td>\n",
       "      <td>3</td>\n",
       "      <td>...</td>\n",
       "      <td>4</td>\n",
       "      <td>1</td>\n",
       "      <td>3</td>\n",
       "      <td>&lt; 15</td>\n",
       "      <td>&lt; 15</td>\n",
       "      <td>&lt;1000</td>\n",
       "      <td>1.360753</td>\n",
       "      <td>-1.322461</td>\n",
       "      <td>-0.386036</td>\n",
       "      <td>-0.392329</td>\n",
       "    </tr>\n",
       "    <tr>\n",
       "      <th>4</th>\n",
       "      <td>satisfied</td>\n",
       "      <td>Female</td>\n",
       "      <td>Loyal Customer</td>\n",
       "      <td>Personal Travel</td>\n",
       "      <td>Eco</td>\n",
       "      <td>0</td>\n",
       "      <td>0</td>\n",
       "      <td>0</td>\n",
       "      <td>3</td>\n",
       "      <td>4</td>\n",
       "      <td>...</td>\n",
       "      <td>4</td>\n",
       "      <td>2</td>\n",
       "      <td>5</td>\n",
       "      <td>&lt; 15</td>\n",
       "      <td>&lt; 15</td>\n",
       "      <td>&lt;1000</td>\n",
       "      <td>2.022237</td>\n",
       "      <td>-1.584420</td>\n",
       "      <td>-0.386036</td>\n",
       "      <td>-0.392329</td>\n",
       "    </tr>\n",
       "  </tbody>\n",
       "</table>\n",
       "<p>5 rows × 26 columns</p>\n",
       "</div>"
      ],
      "text/plain": [
       "  satisfaction  Gender   Customer Type   Type of Travel     Class  \\\n",
       "0    satisfied  Female  Loyal Customer  Personal Travel       Eco   \n",
       "1    satisfied    Male  Loyal Customer  Personal Travel  Business   \n",
       "2    satisfied  Female  Loyal Customer  Personal Travel       Eco   \n",
       "3    satisfied  Female  Loyal Customer  Personal Travel       Eco   \n",
       "4    satisfied  Female  Loyal Customer  Personal Travel       Eco   \n",
       "\n",
       "  Seat comfort Departure/Arrival time convenient Food and drink Gate location  \\\n",
       "0            0                                 0              0             2   \n",
       "1            0                                 0              0             3   \n",
       "2            0                                 0              0             3   \n",
       "3            0                                 0              0             3   \n",
       "4            0                                 0              0             3   \n",
       "\n",
       "  Inflight wifi service  ... Checkin service Cleanliness Online boarding  \\\n",
       "0                     2  ...               5           3               2   \n",
       "1                     0  ...               2           3               2   \n",
       "2                     2  ...               4           4               2   \n",
       "3                     3  ...               4           1               3   \n",
       "4                     4  ...               4           2               5   \n",
       "\n",
       "  cat_retraso_salida cat_retraso_llegada cat_distance       Age  \\\n",
       "0               < 15                < 15        <1000  1.691495   \n",
       "1               120+                120+    1000-4000  0.500825   \n",
       "2               < 15                < 15    1000-4000 -1.615922   \n",
       "3               < 15                < 15        <1000  1.360753   \n",
       "4               < 15                < 15        <1000  2.022237   \n",
       "\n",
       "  Flight Distance Departure Delay in Minutes Arrival Delay in Minutes  \n",
       "0       -1.671090                  -0.386036                -0.392329  \n",
       "1        0.470348                   7.786328                 7.536854  \n",
       "2        0.152882                  -0.386036                -0.392329  \n",
       "3       -1.322461                  -0.386036                -0.392329  \n",
       "4       -1.584420                  -0.386036                -0.392329  \n",
       "\n",
       "[5 rows x 26 columns]"
      ]
     },
     "execution_count": 66,
     "metadata": {},
     "output_type": "execute_result"
    }
   ],
   "source": [
    "# lo unimos al dataframe original \n",
    "\n",
    "df = pd.concat([df, df_datos_estandarizados], axis = 1, join='inner')\n",
    "\n",
    "# chequeamos que esta todo bien\n",
    "df.head()"
   ]
  },
  {
   "cell_type": "code",
   "execution_count": 67,
   "metadata": {},
   "outputs": [
    {
     "data": {
      "text/plain": [
       "(129487, 26)"
      ]
     },
     "execution_count": 67,
     "metadata": {},
     "output_type": "execute_result"
    }
   ],
   "source": [
    "df.shape"
   ]
  },
  {
   "cell_type": "code",
   "execution_count": 68,
   "metadata": {},
   "outputs": [
    {
     "data": {
      "text/plain": [
       "satisfaction                         0\n",
       "Gender                               0\n",
       "Customer Type                        0\n",
       "Type of Travel                       0\n",
       "Class                                0\n",
       "Seat comfort                         0\n",
       "Departure/Arrival time convenient    0\n",
       "Food and drink                       0\n",
       "Gate location                        0\n",
       "Inflight wifi service                0\n",
       "Inflight entertainment               0\n",
       "Online support                       0\n",
       "Ease of Online booking               0\n",
       "On-board service                     0\n",
       "Leg room service                     0\n",
       "Baggage handling                     0\n",
       "Checkin service                      0\n",
       "Cleanliness                          0\n",
       "Online boarding                      0\n",
       "cat_retraso_salida                   0\n",
       "cat_retraso_llegada                  0\n",
       "cat_distance                         0\n",
       "Age                                  0\n",
       "Flight Distance                      0\n",
       "Departure Delay in Minutes           0\n",
       "Arrival Delay in Minutes             0\n",
       "dtype: int64"
      ]
     },
     "execution_count": 68,
     "metadata": {},
     "output_type": "execute_result"
    }
   ],
   "source": [
    "df.isnull().sum()"
   ]
  },
  {
   "attachments": {},
   "cell_type": "markdown",
   "metadata": {},
   "source": [
    "## Codificación\n",
    "\n",
    "columnas que codificar:\n",
    "- Gender\n",
    "- Customer Type\n",
    "- Type of Travel\n",
    "- Class"
   ]
  },
  {
   "cell_type": "code",
   "execution_count": 69,
   "metadata": {},
   "outputs": [
    {
     "data": {
      "image/png": "[encoded data removed]",
      "text/plain": [
       "<Figure size 1440x1080 with 4 Axes>"
      ]
     },
     "metadata": {
      "needs_background": "light"
     },
     "output_type": "display_data"
    }
   ],
   "source": [
    "fig, axes = plt.subplots(nrows = 2, ncols = 2, figsize = (20, 15))\n",
    "\n",
    "axes = axes.flat\n",
    "\n",
    "df_cod = df[['Gender', 'Customer Type', 'Type of Travel', 'Class']]\n",
    "\n",
    "for i, colum in enumerate(df_cod.columns): \n",
    "    sns.countplot(\n",
    "        data = df,\n",
    "        x = colum,\n",
    "        hue = \"satisfaction\", \n",
    "        ax = axes[i])\n",
    "    \n",
    "    \n",
    "    axes[i].set_title(colum, fontsize = 15, fontweight = \"bold\")\n",
    "    axes[i].tick_params(labelsize = 20)\n",
    "    axes[i].set_xlabel(\"\")\n",
    "    axes[i].legend(loc= \"upper right\")\n",
    "\n",
    "fig.tight_layout();"
   ]
  },
  {
   "cell_type": "code",
   "execution_count": 70,
   "metadata": {},
   "outputs": [
    {
     "data": {
      "text/html": [
       "<div>\n",
       "<style scoped>\n",
       "    .dataframe tbody tr th:only-of-type {\n",
       "        vertical-align: middle;\n",
       "    }\n",
       "\n",
       "    .dataframe tbody tr th {\n",
       "        vertical-align: top;\n",
       "    }\n",
       "\n",
       "    .dataframe thead th {\n",
       "        text-align: right;\n",
       "    }\n",
       "</style>\n",
       "<table border=\"1\" class=\"dataframe\">\n",
       "  <thead>\n",
       "    <tr style=\"text-align: right;\">\n",
       "      <th></th>\n",
       "      <th>Gender</th>\n",
       "      <th>satisfaction</th>\n",
       "      <th>count</th>\n",
       "      <th>percent</th>\n",
       "      <th>cumulative_count</th>\n",
       "      <th>cumulative_percent</th>\n",
       "    </tr>\n",
       "  </thead>\n",
       "  <tbody>\n",
       "    <tr>\n",
       "      <th>0</th>\n",
       "      <td>Female</td>\n",
       "      <td>satisfied</td>\n",
       "      <td>42799</td>\n",
       "      <td>33.052739</td>\n",
       "      <td>42799</td>\n",
       "      <td>33.052739</td>\n",
       "    </tr>\n",
       "    <tr>\n",
       "      <th>1</th>\n",
       "      <td>Male</td>\n",
       "      <td>dissatisfied</td>\n",
       "      <td>35701</td>\n",
       "      <td>27.571108</td>\n",
       "      <td>78500</td>\n",
       "      <td>60.623846</td>\n",
       "    </tr>\n",
       "    <tr>\n",
       "      <th>2</th>\n",
       "      <td>Male</td>\n",
       "      <td>satisfied</td>\n",
       "      <td>28083</td>\n",
       "      <td>21.687891</td>\n",
       "      <td>106583</td>\n",
       "      <td>82.311738</td>\n",
       "    </tr>\n",
       "    <tr>\n",
       "      <th>3</th>\n",
       "      <td>Female</td>\n",
       "      <td>dissatisfied</td>\n",
       "      <td>22904</td>\n",
       "      <td>17.688262</td>\n",
       "      <td>129487</td>\n",
       "      <td>100.000000</td>\n",
       "    </tr>\n",
       "  </tbody>\n",
       "</table>\n",
       "</div>"
      ],
      "text/plain": [
       "   Gender  satisfaction  count    percent  cumulative_count  \\\n",
       "0  Female     satisfied  42799  33.052739             42799   \n",
       "1    Male  dissatisfied  35701  27.571108             78500   \n",
       "2    Male     satisfied  28083  21.687891            106583   \n",
       "3  Female  dissatisfied  22904  17.688262            129487   \n",
       "\n",
       "   cumulative_percent  \n",
       "0           33.052739  \n",
       "1           60.623846  \n",
       "2           82.311738  \n",
       "3          100.000000  "
      ]
     },
     "execution_count": 70,
     "metadata": {},
     "output_type": "execute_result"
    }
   ],
   "source": [
    "df.stb.freq(['Gender', 'satisfaction'])"
   ]
  },
  {
   "cell_type": "code",
   "execution_count": 71,
   "metadata": {},
   "outputs": [
    {
     "name": "stdout",
     "output_type": "stream",
     "text": [
      "Female satisfied: 65%\n",
      "Female dissatisfied: 35%\n",
      "Male satisfied: 44%\n",
      "Male dissatisfied: 56%\n"
     ]
    }
   ],
   "source": [
    "print(f'Female satisfied: {round(42799 / (42799 + 22904) * 100)}%')\n",
    "print(f'Female dissatisfied: {round(22904 / (42799 + 22904) * 100)}%')\n",
    "print(f'Male satisfied: {round(28083 / (28083 + 35701) * 100)}%')\n",
    "print(f'Male dissatisfied: {round(35701 / (28083 + 35701) * 100)}%')"
   ]
  },
  {
   "attachments": {},
   "cell_type": "markdown",
   "metadata": {},
   "source": [
    "- vemos que genero es una variable ordenal debido a las diferencias significativas entre opiniones de hombres y mujeres\n",
    "\n",
    "Codificación:\n",
    "- Male 0\n",
    "- Female 1"
   ]
  },
  {
   "cell_type": "code",
   "execution_count": 72,
   "metadata": {},
   "outputs": [
    {
     "data": {
      "text/plain": [
       "['Female', 'Male']\n",
       "Categories (2, object): ['Female', 'Male']"
      ]
     },
     "execution_count": 72,
     "metadata": {},
     "output_type": "execute_result"
    }
   ],
   "source": [
    "df['Gender'].unique()"
   ]
  },
  {
   "cell_type": "code",
   "execution_count": 73,
   "metadata": {},
   "outputs": [],
   "source": [
    "df['Gender'] = df['Gender'].map({'Female': 1, 'Male': 0})"
   ]
  },
  {
   "cell_type": "code",
   "execution_count": 74,
   "metadata": {},
   "outputs": [
    {
     "data": {
      "text/plain": [
       "0    1\n",
       "1    0\n",
       "2    1\n",
       "3    1\n",
       "4    1\n",
       "Name: Gender, dtype: category\n",
       "Categories (2, int64): [1, 0]"
      ]
     },
     "execution_count": 74,
     "metadata": {},
     "output_type": "execute_result"
    }
   ],
   "source": [
    "df['Gender'].head()"
   ]
  },
  {
   "cell_type": "code",
   "execution_count": 75,
   "metadata": {},
   "outputs": [
    {
     "data": {
      "text/html": [
       "<div>\n",
       "<style scoped>\n",
       "    .dataframe tbody tr th:only-of-type {\n",
       "        vertical-align: middle;\n",
       "    }\n",
       "\n",
       "    .dataframe tbody tr th {\n",
       "        vertical-align: top;\n",
       "    }\n",
       "\n",
       "    .dataframe thead th {\n",
       "        text-align: right;\n",
       "    }\n",
       "</style>\n",
       "<table border=\"1\" class=\"dataframe\">\n",
       "  <thead>\n",
       "    <tr style=\"text-align: right;\">\n",
       "      <th></th>\n",
       "      <th>Customer Type</th>\n",
       "      <th>satisfaction</th>\n",
       "      <th>count</th>\n",
       "      <th>percent</th>\n",
       "      <th>cumulative_count</th>\n",
       "      <th>cumulative_percent</th>\n",
       "    </tr>\n",
       "  </thead>\n",
       "  <tbody>\n",
       "    <tr>\n",
       "      <th>0</th>\n",
       "      <td>Loyal Customer</td>\n",
       "      <td>satisfied</td>\n",
       "      <td>65194</td>\n",
       "      <td>50.347911</td>\n",
       "      <td>65194</td>\n",
       "      <td>50.347911</td>\n",
       "    </tr>\n",
       "    <tr>\n",
       "      <th>1</th>\n",
       "      <td>Loyal Customer</td>\n",
       "      <td>dissatisfied</td>\n",
       "      <td>40579</td>\n",
       "      <td>31.338281</td>\n",
       "      <td>105773</td>\n",
       "      <td>81.686192</td>\n",
       "    </tr>\n",
       "    <tr>\n",
       "      <th>2</th>\n",
       "      <td>disloyal Customer</td>\n",
       "      <td>dissatisfied</td>\n",
       "      <td>18026</td>\n",
       "      <td>13.921089</td>\n",
       "      <td>123799</td>\n",
       "      <td>95.607281</td>\n",
       "    </tr>\n",
       "    <tr>\n",
       "      <th>3</th>\n",
       "      <td>disloyal Customer</td>\n",
       "      <td>satisfied</td>\n",
       "      <td>5688</td>\n",
       "      <td>4.392719</td>\n",
       "      <td>129487</td>\n",
       "      <td>100.000000</td>\n",
       "    </tr>\n",
       "  </tbody>\n",
       "</table>\n",
       "</div>"
      ],
      "text/plain": [
       "       Customer Type  satisfaction  count    percent  cumulative_count  \\\n",
       "0     Loyal Customer     satisfied  65194  50.347911             65194   \n",
       "1     Loyal Customer  dissatisfied  40579  31.338281            105773   \n",
       "2  disloyal Customer  dissatisfied  18026  13.921089            123799   \n",
       "3  disloyal Customer     satisfied   5688   4.392719            129487   \n",
       "\n",
       "   cumulative_percent  \n",
       "0           50.347911  \n",
       "1           81.686192  \n",
       "2           95.607281  \n",
       "3          100.000000  "
      ]
     },
     "execution_count": 75,
     "metadata": {},
     "output_type": "execute_result"
    }
   ],
   "source": [
    "df.stb.freq(['Customer Type', 'satisfaction'])"
   ]
  },
  {
   "cell_type": "code",
   "execution_count": 76,
   "metadata": {},
   "outputs": [
    {
     "name": "stdout",
     "output_type": "stream",
     "text": [
      "Loyal satisfied: 62%\n",
      "Loyal dissatisfied: 38%\n",
      "Disloyal satisfied: 24%\n",
      "Disloyal dissatisfied: 76%\n"
     ]
    }
   ],
   "source": [
    "print(f'Loyal satisfied: {round(65194 / (65194 + 40579) * 100)}%')\n",
    "print(f'Loyal dissatisfied: {round(40579 / (65194 + 40579) * 100)}%')\n",
    "print(f'Disloyal satisfied: {round(5688 / (18026 + 5688) * 100)}%')\n",
    "print(f'Disloyal dissatisfied: {round(18026 / (18026 + 5688) * 100)}%')"
   ]
  },
  {
   "attachments": {},
   "cell_type": "markdown",
   "metadata": {},
   "source": [
    "- vemos que el tipo de cliente es una variable ordenal debido a las diferencias significativas entre opiniones de los clientes leales y los que no son leales\n",
    "\n",
    "Codificación:\n",
    "- Loyal Customer 3\n",
    "- Disloyal Customer 1"
   ]
  },
  {
   "cell_type": "code",
   "execution_count": 77,
   "metadata": {},
   "outputs": [],
   "source": [
    "df['Customer Type'] = df['Customer Type'].map({'Loyal Customer': 3, 'disloyal Customer': 1})"
   ]
  },
  {
   "cell_type": "code",
   "execution_count": 78,
   "metadata": {},
   "outputs": [
    {
     "data": {
      "text/plain": [
       "0    3\n",
       "1    3\n",
       "2    3\n",
       "3    3\n",
       "4    3\n",
       "Name: Customer Type, dtype: category\n",
       "Categories (2, int64): [3, 1]"
      ]
     },
     "execution_count": 78,
     "metadata": {},
     "output_type": "execute_result"
    }
   ],
   "source": [
    "df['Customer Type'].head()"
   ]
  },
  {
   "cell_type": "code",
   "execution_count": 79,
   "metadata": {},
   "outputs": [
    {
     "data": {
      "text/html": [
       "<div>\n",
       "<style scoped>\n",
       "    .dataframe tbody tr th:only-of-type {\n",
       "        vertical-align: middle;\n",
       "    }\n",
       "\n",
       "    .dataframe tbody tr th {\n",
       "        vertical-align: top;\n",
       "    }\n",
       "\n",
       "    .dataframe thead th {\n",
       "        text-align: right;\n",
       "    }\n",
       "</style>\n",
       "<table border=\"1\" class=\"dataframe\">\n",
       "  <thead>\n",
       "    <tr style=\"text-align: right;\">\n",
       "      <th></th>\n",
       "      <th>Type of Travel</th>\n",
       "      <th>satisfaction</th>\n",
       "      <th>count</th>\n",
       "      <th>percent</th>\n",
       "      <th>cumulative_count</th>\n",
       "      <th>cumulative_percent</th>\n",
       "    </tr>\n",
       "  </thead>\n",
       "  <tbody>\n",
       "    <tr>\n",
       "      <th>0</th>\n",
       "      <td>Business travel</td>\n",
       "      <td>satisfied</td>\n",
       "      <td>52207</td>\n",
       "      <td>40.318333</td>\n",
       "      <td>52207</td>\n",
       "      <td>40.318333</td>\n",
       "    </tr>\n",
       "    <tr>\n",
       "      <th>1</th>\n",
       "      <td>Business travel</td>\n",
       "      <td>dissatisfied</td>\n",
       "      <td>37238</td>\n",
       "      <td>28.758099</td>\n",
       "      <td>89445</td>\n",
       "      <td>69.076432</td>\n",
       "    </tr>\n",
       "    <tr>\n",
       "      <th>2</th>\n",
       "      <td>Personal Travel</td>\n",
       "      <td>dissatisfied</td>\n",
       "      <td>21367</td>\n",
       "      <td>16.501270</td>\n",
       "      <td>110812</td>\n",
       "      <td>85.577703</td>\n",
       "    </tr>\n",
       "    <tr>\n",
       "      <th>3</th>\n",
       "      <td>Personal Travel</td>\n",
       "      <td>satisfied</td>\n",
       "      <td>18675</td>\n",
       "      <td>14.422297</td>\n",
       "      <td>129487</td>\n",
       "      <td>100.000000</td>\n",
       "    </tr>\n",
       "  </tbody>\n",
       "</table>\n",
       "</div>"
      ],
      "text/plain": [
       "    Type of Travel  satisfaction  count    percent  cumulative_count  \\\n",
       "0  Business travel     satisfied  52207  40.318333             52207   \n",
       "1  Business travel  dissatisfied  37238  28.758099             89445   \n",
       "2  Personal Travel  dissatisfied  21367  16.501270            110812   \n",
       "3  Personal Travel     satisfied  18675  14.422297            129487   \n",
       "\n",
       "   cumulative_percent  \n",
       "0           40.318333  \n",
       "1           69.076432  \n",
       "2           85.577703  \n",
       "3          100.000000  "
      ]
     },
     "execution_count": 79,
     "metadata": {},
     "output_type": "execute_result"
    }
   ],
   "source": [
    "df.stb.freq(['Type of Travel', 'satisfaction'])"
   ]
  },
  {
   "cell_type": "code",
   "execution_count": 80,
   "metadata": {},
   "outputs": [
    {
     "name": "stdout",
     "output_type": "stream",
     "text": [
      "Business satisfied: 58%\n",
      "Business dissatisfied: 42%\n",
      "Personal satisfied: 24%\n",
      "Personal dissatisfied: 76%\n"
     ]
    }
   ],
   "source": [
    "print(f'Business satisfied: {round(52207 / (52207 + 37238) * 100)}%')\n",
    "print(f'Business dissatisfied: {round(37238 / (52207 + 37238) * 100)}%')\n",
    "print(f'Personal satisfied: {round(5688 / (18026 + 5688) * 100)}%')\n",
    "print(f'Personal dissatisfied: {round(18026 / (18026 + 5688) * 100)}%')"
   ]
  },
  {
   "attachments": {},
   "cell_type": "markdown",
   "metadata": {},
   "source": [
    "- vemos que el tipo de viaje es una variable ordenal debido a las diferencias significativas entre opiniones de los clientes de negocio y el resto de clientes\n",
    "\n",
    "Codificación:\n",
    "- Business travel 2\n",
    "- Personal Travel 1"
   ]
  },
  {
   "cell_type": "code",
   "execution_count": 81,
   "metadata": {},
   "outputs": [],
   "source": [
    "df['Type of Travel'] = df['Type of Travel'].map({'Business travel': 1, 'Personal Travel': 1})"
   ]
  },
  {
   "cell_type": "code",
   "execution_count": 82,
   "metadata": {},
   "outputs": [
    {
     "data": {
      "text/html": [
       "<div>\n",
       "<style scoped>\n",
       "    .dataframe tbody tr th:only-of-type {\n",
       "        vertical-align: middle;\n",
       "    }\n",
       "\n",
       "    .dataframe tbody tr th {\n",
       "        vertical-align: top;\n",
       "    }\n",
       "\n",
       "    .dataframe thead th {\n",
       "        text-align: right;\n",
       "    }\n",
       "</style>\n",
       "<table border=\"1\" class=\"dataframe\">\n",
       "  <thead>\n",
       "    <tr style=\"text-align: right;\">\n",
       "      <th></th>\n",
       "      <th>Class</th>\n",
       "      <th>satisfaction</th>\n",
       "      <th>count</th>\n",
       "      <th>percent</th>\n",
       "      <th>cumulative_count</th>\n",
       "      <th>cumulative_percent</th>\n",
       "    </tr>\n",
       "  </thead>\n",
       "  <tbody>\n",
       "    <tr>\n",
       "      <th>0</th>\n",
       "      <td>Business</td>\n",
       "      <td>satisfied</td>\n",
       "      <td>43977</td>\n",
       "      <td>33.962483</td>\n",
       "      <td>43977</td>\n",
       "      <td>33.962483</td>\n",
       "    </tr>\n",
       "    <tr>\n",
       "      <th>1</th>\n",
       "      <td>Eco</td>\n",
       "      <td>dissatisfied</td>\n",
       "      <td>35219</td>\n",
       "      <td>27.198869</td>\n",
       "      <td>79196</td>\n",
       "      <td>61.161352</td>\n",
       "    </tr>\n",
       "    <tr>\n",
       "      <th>2</th>\n",
       "      <td>Eco</td>\n",
       "      <td>satisfied</td>\n",
       "      <td>22898</td>\n",
       "      <td>17.683628</td>\n",
       "      <td>102094</td>\n",
       "      <td>78.844981</td>\n",
       "    </tr>\n",
       "    <tr>\n",
       "      <th>3</th>\n",
       "      <td>Business</td>\n",
       "      <td>dissatisfied</td>\n",
       "      <td>18013</td>\n",
       "      <td>13.911049</td>\n",
       "      <td>120107</td>\n",
       "      <td>92.756030</td>\n",
       "    </tr>\n",
       "    <tr>\n",
       "      <th>4</th>\n",
       "      <td>Eco Plus</td>\n",
       "      <td>dissatisfied</td>\n",
       "      <td>5373</td>\n",
       "      <td>4.149451</td>\n",
       "      <td>125480</td>\n",
       "      <td>96.905481</td>\n",
       "    </tr>\n",
       "    <tr>\n",
       "      <th>5</th>\n",
       "      <td>Eco Plus</td>\n",
       "      <td>satisfied</td>\n",
       "      <td>4007</td>\n",
       "      <td>3.094519</td>\n",
       "      <td>129487</td>\n",
       "      <td>100.000000</td>\n",
       "    </tr>\n",
       "  </tbody>\n",
       "</table>\n",
       "</div>"
      ],
      "text/plain": [
       "      Class  satisfaction  count    percent  cumulative_count  \\\n",
       "0  Business     satisfied  43977  33.962483             43977   \n",
       "1       Eco  dissatisfied  35219  27.198869             79196   \n",
       "2       Eco     satisfied  22898  17.683628            102094   \n",
       "3  Business  dissatisfied  18013  13.911049            120107   \n",
       "4  Eco Plus  dissatisfied   5373   4.149451            125480   \n",
       "5  Eco Plus     satisfied   4007   3.094519            129487   \n",
       "\n",
       "   cumulative_percent  \n",
       "0           33.962483  \n",
       "1           61.161352  \n",
       "2           78.844981  \n",
       "3           92.756030  \n",
       "4           96.905481  \n",
       "5          100.000000  "
      ]
     },
     "execution_count": 82,
     "metadata": {},
     "output_type": "execute_result"
    }
   ],
   "source": [
    "df.stb.freq(['Class', 'satisfaction'])"
   ]
  },
  {
   "cell_type": "code",
   "execution_count": 83,
   "metadata": {},
   "outputs": [
    {
     "name": "stdout",
     "output_type": "stream",
     "text": [
      "Business satisfied: 71%\n",
      "Business dissatisfied: 29%\n",
      "Eco Plus satisfied: 43%\n",
      "Eco Plus dissatisfied: 57%\n",
      "Eco satisfied: 39%\n",
      "Eco dissatisfied: 61%\n"
     ]
    }
   ],
   "source": [
    "print(f'Business satisfied: {round(43977 / (43977 + 18013) * 100)}%')\n",
    "print(f'Business dissatisfied: {round(18013 / (43977 + 18013) * 100)}%')\n",
    "print(f'Eco Plus satisfied: {round(4007 / (4007 + 5373) * 100)}%')\n",
    "print(f'Eco Plus dissatisfied: {round(5373 / (4007 + 5373) * 100)}%')\n",
    "print(f'Eco satisfied: {round(22898 / (22898 + 35219) * 100)}%')\n",
    "print(f'Eco dissatisfied: {round(35219 / (22898 + 35219) * 100)}%')"
   ]
  },
  {
   "attachments": {},
   "cell_type": "markdown",
   "metadata": {},
   "source": [
    "- vemos que la clase de viaje es una variable ordenal debido a las diferencias significativas entre las opiniones de los clientes de Business y los de Eco y Eco Plus\n",
    "\n",
    "Codificación:\n",
    "- Business 2\n",
    "- Eco Plus 1\n",
    "- Eco 1"
   ]
  },
  {
   "cell_type": "code",
   "execution_count": 84,
   "metadata": {},
   "outputs": [],
   "source": [
    "df['Class'] = df['Class'].map({'Business': 2, 'Eco Plus': 1, 'Eco': 1})"
   ]
  },
  {
   "cell_type": "code",
   "execution_count": 85,
   "metadata": {},
   "outputs": [
    {
     "data": {
      "text/html": [
       "<div>\n",
       "<style scoped>\n",
       "    .dataframe tbody tr th:only-of-type {\n",
       "        vertical-align: middle;\n",
       "    }\n",
       "\n",
       "    .dataframe tbody tr th {\n",
       "        vertical-align: top;\n",
       "    }\n",
       "\n",
       "    .dataframe thead th {\n",
       "        text-align: right;\n",
       "    }\n",
       "</style>\n",
       "<table border=\"1\" class=\"dataframe\">\n",
       "  <thead>\n",
       "    <tr style=\"text-align: right;\">\n",
       "      <th></th>\n",
       "      <th>satisfaction</th>\n",
       "      <th>Gender</th>\n",
       "      <th>Customer Type</th>\n",
       "      <th>Type of Travel</th>\n",
       "      <th>Class</th>\n",
       "      <th>Seat comfort</th>\n",
       "      <th>Departure/Arrival time convenient</th>\n",
       "      <th>Food and drink</th>\n",
       "      <th>Gate location</th>\n",
       "      <th>Inflight wifi service</th>\n",
       "      <th>...</th>\n",
       "      <th>Checkin service</th>\n",
       "      <th>Cleanliness</th>\n",
       "      <th>Online boarding</th>\n",
       "      <th>cat_retraso_salida</th>\n",
       "      <th>cat_retraso_llegada</th>\n",
       "      <th>cat_distance</th>\n",
       "      <th>Age</th>\n",
       "      <th>Flight Distance</th>\n",
       "      <th>Departure Delay in Minutes</th>\n",
       "      <th>Arrival Delay in Minutes</th>\n",
       "    </tr>\n",
       "  </thead>\n",
       "  <tbody>\n",
       "    <tr>\n",
       "      <th>0</th>\n",
       "      <td>satisfied</td>\n",
       "      <td>1</td>\n",
       "      <td>3</td>\n",
       "      <td>1</td>\n",
       "      <td>1</td>\n",
       "      <td>0</td>\n",
       "      <td>0</td>\n",
       "      <td>0</td>\n",
       "      <td>2</td>\n",
       "      <td>2</td>\n",
       "      <td>...</td>\n",
       "      <td>5</td>\n",
       "      <td>3</td>\n",
       "      <td>2</td>\n",
       "      <td>&lt; 15</td>\n",
       "      <td>&lt; 15</td>\n",
       "      <td>&lt;1000</td>\n",
       "      <td>1.691495</td>\n",
       "      <td>-1.671090</td>\n",
       "      <td>-0.386036</td>\n",
       "      <td>-0.392329</td>\n",
       "    </tr>\n",
       "    <tr>\n",
       "      <th>1</th>\n",
       "      <td>satisfied</td>\n",
       "      <td>0</td>\n",
       "      <td>3</td>\n",
       "      <td>1</td>\n",
       "      <td>2</td>\n",
       "      <td>0</td>\n",
       "      <td>0</td>\n",
       "      <td>0</td>\n",
       "      <td>3</td>\n",
       "      <td>0</td>\n",
       "      <td>...</td>\n",
       "      <td>2</td>\n",
       "      <td>3</td>\n",
       "      <td>2</td>\n",
       "      <td>120+</td>\n",
       "      <td>120+</td>\n",
       "      <td>1000-4000</td>\n",
       "      <td>0.500825</td>\n",
       "      <td>0.470348</td>\n",
       "      <td>7.786328</td>\n",
       "      <td>7.536854</td>\n",
       "    </tr>\n",
       "    <tr>\n",
       "      <th>2</th>\n",
       "      <td>satisfied</td>\n",
       "      <td>1</td>\n",
       "      <td>3</td>\n",
       "      <td>1</td>\n",
       "      <td>1</td>\n",
       "      <td>0</td>\n",
       "      <td>0</td>\n",
       "      <td>0</td>\n",
       "      <td>3</td>\n",
       "      <td>2</td>\n",
       "      <td>...</td>\n",
       "      <td>4</td>\n",
       "      <td>4</td>\n",
       "      <td>2</td>\n",
       "      <td>&lt; 15</td>\n",
       "      <td>&lt; 15</td>\n",
       "      <td>1000-4000</td>\n",
       "      <td>-1.615922</td>\n",
       "      <td>0.152882</td>\n",
       "      <td>-0.386036</td>\n",
       "      <td>-0.392329</td>\n",
       "    </tr>\n",
       "    <tr>\n",
       "      <th>3</th>\n",
       "      <td>satisfied</td>\n",
       "      <td>1</td>\n",
       "      <td>3</td>\n",
       "      <td>1</td>\n",
       "      <td>1</td>\n",
       "      <td>0</td>\n",
       "      <td>0</td>\n",
       "      <td>0</td>\n",
       "      <td>3</td>\n",
       "      <td>3</td>\n",
       "      <td>...</td>\n",
       "      <td>4</td>\n",
       "      <td>1</td>\n",
       "      <td>3</td>\n",
       "      <td>&lt; 15</td>\n",
       "      <td>&lt; 15</td>\n",
       "      <td>&lt;1000</td>\n",
       "      <td>1.360753</td>\n",
       "      <td>-1.322461</td>\n",
       "      <td>-0.386036</td>\n",
       "      <td>-0.392329</td>\n",
       "    </tr>\n",
       "    <tr>\n",
       "      <th>4</th>\n",
       "      <td>satisfied</td>\n",
       "      <td>1</td>\n",
       "      <td>3</td>\n",
       "      <td>1</td>\n",
       "      <td>1</td>\n",
       "      <td>0</td>\n",
       "      <td>0</td>\n",
       "      <td>0</td>\n",
       "      <td>3</td>\n",
       "      <td>4</td>\n",
       "      <td>...</td>\n",
       "      <td>4</td>\n",
       "      <td>2</td>\n",
       "      <td>5</td>\n",
       "      <td>&lt; 15</td>\n",
       "      <td>&lt; 15</td>\n",
       "      <td>&lt;1000</td>\n",
       "      <td>2.022237</td>\n",
       "      <td>-1.584420</td>\n",
       "      <td>-0.386036</td>\n",
       "      <td>-0.392329</td>\n",
       "    </tr>\n",
       "  </tbody>\n",
       "</table>\n",
       "<p>5 rows × 26 columns</p>\n",
       "</div>"
      ],
      "text/plain": [
       "  satisfaction Gender Customer Type  Type of Travel  Class Seat comfort  \\\n",
       "0    satisfied      1             3               1      1            0   \n",
       "1    satisfied      0             3               1      2            0   \n",
       "2    satisfied      1             3               1      1            0   \n",
       "3    satisfied      1             3               1      1            0   \n",
       "4    satisfied      1             3               1      1            0   \n",
       "\n",
       "  Departure/Arrival time convenient Food and drink Gate location  \\\n",
       "0                                 0              0             2   \n",
       "1                                 0              0             3   \n",
       "2                                 0              0             3   \n",
       "3                                 0              0             3   \n",
       "4                                 0              0             3   \n",
       "\n",
       "  Inflight wifi service  ... Checkin service Cleanliness Online boarding  \\\n",
       "0                     2  ...               5           3               2   \n",
       "1                     0  ...               2           3               2   \n",
       "2                     2  ...               4           4               2   \n",
       "3                     3  ...               4           1               3   \n",
       "4                     4  ...               4           2               5   \n",
       "\n",
       "  cat_retraso_salida cat_retraso_llegada cat_distance       Age  \\\n",
       "0               < 15                < 15        <1000  1.691495   \n",
       "1               120+                120+    1000-4000  0.500825   \n",
       "2               < 15                < 15    1000-4000 -1.615922   \n",
       "3               < 15                < 15        <1000  1.360753   \n",
       "4               < 15                < 15        <1000  2.022237   \n",
       "\n",
       "  Flight Distance Departure Delay in Minutes Arrival Delay in Minutes  \n",
       "0       -1.671090                  -0.386036                -0.392329  \n",
       "1        0.470348                   7.786328                 7.536854  \n",
       "2        0.152882                  -0.386036                -0.392329  \n",
       "3       -1.322461                  -0.386036                -0.392329  \n",
       "4       -1.584420                  -0.386036                -0.392329  \n",
       "\n",
       "[5 rows x 26 columns]"
      ]
     },
     "execution_count": 85,
     "metadata": {},
     "output_type": "execute_result"
    }
   ],
   "source": [
    "df.head()"
   ]
  },
  {
   "cell_type": "code",
   "execution_count": 86,
   "metadata": {},
   "outputs": [
    {
     "data": {
      "text/plain": [
       "satisfaction                         0\n",
       "Gender                               0\n",
       "Customer Type                        0\n",
       "Type of Travel                       0\n",
       "Class                                0\n",
       "Seat comfort                         0\n",
       "Departure/Arrival time convenient    0\n",
       "Food and drink                       0\n",
       "Gate location                        0\n",
       "Inflight wifi service                0\n",
       "Inflight entertainment               0\n",
       "Online support                       0\n",
       "Ease of Online booking               0\n",
       "On-board service                     0\n",
       "Leg room service                     0\n",
       "Baggage handling                     0\n",
       "Checkin service                      0\n",
       "Cleanliness                          0\n",
       "Online boarding                      0\n",
       "cat_retraso_salida                   0\n",
       "cat_retraso_llegada                  0\n",
       "cat_distance                         0\n",
       "Age                                  0\n",
       "Flight Distance                      0\n",
       "Departure Delay in Minutes           0\n",
       "Arrival Delay in Minutes             0\n",
       "dtype: int64"
      ]
     },
     "execution_count": 86,
     "metadata": {},
     "output_type": "execute_result"
    }
   ],
   "source": [
    "df.isnull().sum()"
   ]
  },
  {
   "attachments": {},
   "cell_type": "markdown",
   "metadata": {},
   "source": [
    "## Balanceo"
   ]
  },
  {
   "cell_type": "code",
   "execution_count": 87,
   "metadata": {},
   "outputs": [
    {
     "data": {
      "text/html": [
       "<div>\n",
       "<style scoped>\n",
       "    .dataframe tbody tr th:only-of-type {\n",
       "        vertical-align: middle;\n",
       "    }\n",
       "\n",
       "    .dataframe tbody tr th {\n",
       "        vertical-align: top;\n",
       "    }\n",
       "\n",
       "    .dataframe thead th {\n",
       "        text-align: right;\n",
       "    }\n",
       "</style>\n",
       "<table border=\"1\" class=\"dataframe\">\n",
       "  <thead>\n",
       "    <tr style=\"text-align: right;\">\n",
       "      <th></th>\n",
       "      <th>satisfaction</th>\n",
       "      <th>count</th>\n",
       "      <th>percent</th>\n",
       "      <th>cumulative_count</th>\n",
       "      <th>cumulative_percent</th>\n",
       "    </tr>\n",
       "  </thead>\n",
       "  <tbody>\n",
       "    <tr>\n",
       "      <th>0</th>\n",
       "      <td>satisfied</td>\n",
       "      <td>70882</td>\n",
       "      <td>54.74063</td>\n",
       "      <td>70882</td>\n",
       "      <td>54.74063</td>\n",
       "    </tr>\n",
       "    <tr>\n",
       "      <th>1</th>\n",
       "      <td>dissatisfied</td>\n",
       "      <td>58605</td>\n",
       "      <td>45.25937</td>\n",
       "      <td>129487</td>\n",
       "      <td>100.00000</td>\n",
       "    </tr>\n",
       "  </tbody>\n",
       "</table>\n",
       "</div>"
      ],
      "text/plain": [
       "   satisfaction  count   percent  cumulative_count  cumulative_percent\n",
       "0     satisfied  70882  54.74063             70882            54.74063\n",
       "1  dissatisfied  58605  45.25937            129487           100.00000"
      ]
     },
     "execution_count": 87,
     "metadata": {},
     "output_type": "execute_result"
    }
   ],
   "source": [
    "df.stb.freq(['satisfaction'])"
   ]
  },
  {
   "attachments": {},
   "cell_type": "markdown",
   "metadata": {},
   "source": [
    "- como nuestra variable respuesta está bastante balanceada, no hace falta hacer un downsampling o upsampling"
   ]
  },
  {
   "cell_type": "code",
   "execution_count": 89,
   "metadata": {},
   "outputs": [],
   "source": [
    "# guardamos el dataframe\n",
    "\n",
    "df.to_pickle('datos/Invistico_Airline_v3.pkl')"
   ]
  }
 ],
 "metadata": {
  "kernelspec": {
   "display_name": "base",
   "language": "python",
   "name": "python3"
  },
  "language_info": {
   "codemirror_mode": {
    "name": "ipython",
    "version": 3
   },
   "file_extension": ".py",
   "mimetype": "text/x-python",
   "name": "python",
   "nbconvert_exporter": "python",
   "pygments_lexer": "ipython3",
   "version": "3.9.7"
  },
  "orig_nbformat": 4
 },
 "nbformat": 4,
 "nbformat_minor": 2
}
