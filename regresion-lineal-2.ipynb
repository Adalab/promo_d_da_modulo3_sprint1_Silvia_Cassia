{
 "cells": [
  {
   "attachments": {},
   "cell_type": "markdown",
   "metadata": {},
   "source": [
    "# Pair Programming Test Estadísticos"
   ]
  },
  {
   "cell_type": "code",
   "execution_count": 13,
   "metadata": {},
   "outputs": [],
   "source": [
    "import pandas as pd\n",
    "import numpy as np \n",
    "import seaborn as sns \n",
    "import matplotlib.pyplot as plt\n",
    "import warnings\n",
    "warnings.filterwarnings('ignore')\n",
    "from scipy.stats import skew\n",
    "from scipy.stats import kurtosistest\n",
    "from scipy import stats"
   ]
  },
  {
   "attachments": {},
   "cell_type": "markdown",
   "metadata": {},
   "source": [
    "En este ejercicio de pair programming seguiréis usando el dataset que seleccionasteis ayer.\n",
    "1. ¿Qué diferencia existe el error de tipo I y el error de tipo II?"
   ]
  },
  {
   "attachments": {},
   "cell_type": "markdown",
   "metadata": {},
   "source": [
    "El error de tipo I es rechazar la hipótesis nula cuando es verdadera; el error de tipo II es aceptar la hipótesis nula cuando es falsa."
   ]
  },
  {
   "attachments": {},
   "cell_type": "markdown",
   "metadata": {},
   "source": [
    "2. ¿Qué es la asimetría?"
   ]
  },
  {
   "attachments": {},
   "cell_type": "markdown",
   "metadata": {},
   "source": [
    "La falta de simetría de la distribución respecto a la media, si los datos no tienen distribución normal y están sesgados a derecha o izquierda."
   ]
  },
  {
   "attachments": {},
   "cell_type": "markdown",
   "metadata": {},
   "source": [
    "3. ¿Es vuestra variable respuesta asimétrica?"
   ]
  },
  {
   "cell_type": "code",
   "execution_count": 3,
   "metadata": {},
   "outputs": [
    {
     "data": {
      "text/html": [
       "<div>\n",
       "<style scoped>\n",
       "    .dataframe tbody tr th:only-of-type {\n",
       "        vertical-align: middle;\n",
       "    }\n",
       "\n",
       "    .dataframe tbody tr th {\n",
       "        vertical-align: top;\n",
       "    }\n",
       "\n",
       "    .dataframe thead th {\n",
       "        text-align: right;\n",
       "    }\n",
       "</style>\n",
       "<table border=\"1\" class=\"dataframe\">\n",
       "  <thead>\n",
       "    <tr style=\"text-align: right;\">\n",
       "      <th></th>\n",
       "      <th>country</th>\n",
       "      <th>Region</th>\n",
       "      <th>Surface area (km2)</th>\n",
       "      <th>Population in thousands (2017)</th>\n",
       "      <th>Population density (per km2, 2017)</th>\n",
       "      <th>Sex ratio (m per 100 f, 2017)</th>\n",
       "      <th>GDP: Gross domestic product (million current US$)</th>\n",
       "      <th>GDP growth rate (annual %, const. 2005 prices)</th>\n",
       "      <th>GDP per capita (current US$)</th>\n",
       "      <th>Economy: Agriculture (% of GVA)</th>\n",
       "      <th>...</th>\n",
       "      <th>Inflation, consumer prices (annual %)</th>\n",
       "      <th>Life expectancy at birth, female (years)</th>\n",
       "      <th>Life expectancy at birth, male (years)</th>\n",
       "      <th>Life expectancy at birth, total (years)</th>\n",
       "      <th>Military expenditure (% of GDP)</th>\n",
       "      <th>Population, female</th>\n",
       "      <th>Population, male</th>\n",
       "      <th>Tax revenue (% of GDP)</th>\n",
       "      <th>Taxes on income, profits and capital gains (% of revenue)</th>\n",
       "      <th>Urban population (% of total population)_y</th>\n",
       "    </tr>\n",
       "  </thead>\n",
       "  <tbody>\n",
       "    <tr>\n",
       "      <th>0</th>\n",
       "      <td>Argentina</td>\n",
       "      <td>SouthAmerica</td>\n",
       "      <td>2780400</td>\n",
       "      <td>44271</td>\n",
       "      <td>16.2</td>\n",
       "      <td>95.9</td>\n",
       "      <td>632343</td>\n",
       "      <td>2.4</td>\n",
       "      <td>14564.5</td>\n",
       "      <td>6.0</td>\n",
       "      <td>...</td>\n",
       "      <td>NaN</td>\n",
       "      <td>79.726</td>\n",
       "      <td>72.924</td>\n",
       "      <td>76.372000</td>\n",
       "      <td>0.856138</td>\n",
       "      <td>22572521.0</td>\n",
       "      <td>21472290.0</td>\n",
       "      <td>10.955501</td>\n",
       "      <td>12.929913</td>\n",
       "      <td>91.749</td>\n",
       "    </tr>\n",
       "    <tr>\n",
       "      <th>1</th>\n",
       "      <td>Australia</td>\n",
       "      <td>Oceania</td>\n",
       "      <td>7692060</td>\n",
       "      <td>24451</td>\n",
       "      <td>3.2</td>\n",
       "      <td>99.3</td>\n",
       "      <td>1230859</td>\n",
       "      <td>2.4</td>\n",
       "      <td>51352.2</td>\n",
       "      <td>2.5</td>\n",
       "      <td>...</td>\n",
       "      <td>1.948647</td>\n",
       "      <td>84.600</td>\n",
       "      <td>80.500</td>\n",
       "      <td>82.500000</td>\n",
       "      <td>2.007966</td>\n",
       "      <td>12349632.0</td>\n",
       "      <td>12252228.0</td>\n",
       "      <td>21.915859</td>\n",
       "      <td>64.110306</td>\n",
       "      <td>85.904</td>\n",
       "    </tr>\n",
       "    <tr>\n",
       "      <th>2</th>\n",
       "      <td>Austria</td>\n",
       "      <td>WesternEurope</td>\n",
       "      <td>83871</td>\n",
       "      <td>8736</td>\n",
       "      <td>106.0</td>\n",
       "      <td>96.2</td>\n",
       "      <td>376967</td>\n",
       "      <td>1.0</td>\n",
       "      <td>44117.7</td>\n",
       "      <td>1.3</td>\n",
       "      <td>...</td>\n",
       "      <td>2.081269</td>\n",
       "      <td>84.000</td>\n",
       "      <td>79.400</td>\n",
       "      <td>81.643902</td>\n",
       "      <td>0.756179</td>\n",
       "      <td>4478340.0</td>\n",
       "      <td>4319226.0</td>\n",
       "      <td>25.355237</td>\n",
       "      <td>27.024073</td>\n",
       "      <td>58.094</td>\n",
       "    </tr>\n",
       "    <tr>\n",
       "      <th>3</th>\n",
       "      <td>Belarus</td>\n",
       "      <td>EasternEurope</td>\n",
       "      <td>207600</td>\n",
       "      <td>9468</td>\n",
       "      <td>46.7</td>\n",
       "      <td>87.0</td>\n",
       "      <td>54609</td>\n",
       "      <td>-3.9</td>\n",
       "      <td>5750.8</td>\n",
       "      <td>7.5</td>\n",
       "      <td>...</td>\n",
       "      <td>6.031837</td>\n",
       "      <td>79.200</td>\n",
       "      <td>69.300</td>\n",
       "      <td>74.129268</td>\n",
       "      <td>1.162417</td>\n",
       "      <td>5077542.0</td>\n",
       "      <td>4420722.0</td>\n",
       "      <td>13.019006</td>\n",
       "      <td>2.933101</td>\n",
       "      <td>78.134</td>\n",
       "    </tr>\n",
       "    <tr>\n",
       "      <th>4</th>\n",
       "      <td>Belgium</td>\n",
       "      <td>WesternEurope</td>\n",
       "      <td>30528</td>\n",
       "      <td>11429</td>\n",
       "      <td>377.5</td>\n",
       "      <td>97.3</td>\n",
       "      <td>455107</td>\n",
       "      <td>1.5</td>\n",
       "      <td>40277.8</td>\n",
       "      <td>0.7</td>\n",
       "      <td>...</td>\n",
       "      <td>2.125971</td>\n",
       "      <td>83.900</td>\n",
       "      <td>79.200</td>\n",
       "      <td>81.492683</td>\n",
       "      <td>0.910371</td>\n",
       "      <td>5766141.0</td>\n",
       "      <td>5609017.0</td>\n",
       "      <td>23.399721</td>\n",
       "      <td>33.727746</td>\n",
       "      <td>97.961</td>\n",
       "    </tr>\n",
       "  </tbody>\n",
       "</table>\n",
       "<p>5 rows × 95 columns</p>\n",
       "</div>"
      ],
      "text/plain": [
       "     country         Region  Surface area (km2)  \\\n",
       "0  Argentina   SouthAmerica             2780400   \n",
       "1  Australia        Oceania             7692060   \n",
       "2    Austria  WesternEurope               83871   \n",
       "3    Belarus  EasternEurope              207600   \n",
       "4    Belgium  WesternEurope               30528   \n",
       "\n",
       "   Population in thousands (2017)  Population density (per km2, 2017)  \\\n",
       "0                           44271                                16.2   \n",
       "1                           24451                                 3.2   \n",
       "2                            8736                               106.0   \n",
       "3                            9468                                46.7   \n",
       "4                           11429                               377.5   \n",
       "\n",
       "   Sex ratio (m per 100 f, 2017)  \\\n",
       "0                           95.9   \n",
       "1                           99.3   \n",
       "2                           96.2   \n",
       "3                           87.0   \n",
       "4                           97.3   \n",
       "\n",
       "   GDP: Gross domestic product (million current US$)  \\\n",
       "0                                             632343   \n",
       "1                                            1230859   \n",
       "2                                             376967   \n",
       "3                                              54609   \n",
       "4                                             455107   \n",
       "\n",
       "   GDP growth rate (annual %, const. 2005 prices)  \\\n",
       "0                                             2.4   \n",
       "1                                             2.4   \n",
       "2                                             1.0   \n",
       "3                                            -3.9   \n",
       "4                                             1.5   \n",
       "\n",
       "   GDP per capita (current US$) Economy: Agriculture (% of GVA)  ...  \\\n",
       "0                       14564.5                             6.0  ...   \n",
       "1                       51352.2                             2.5  ...   \n",
       "2                       44117.7                             1.3  ...   \n",
       "3                        5750.8                             7.5  ...   \n",
       "4                       40277.8                             0.7  ...   \n",
       "\n",
       "   Inflation, consumer prices (annual %)  \\\n",
       "0                                    NaN   \n",
       "1                               1.948647   \n",
       "2                               2.081269   \n",
       "3                               6.031837   \n",
       "4                               2.125971   \n",
       "\n",
       "   Life expectancy at birth, female (years)  \\\n",
       "0                                    79.726   \n",
       "1                                    84.600   \n",
       "2                                    84.000   \n",
       "3                                    79.200   \n",
       "4                                    83.900   \n",
       "\n",
       "   Life expectancy at birth, male (years)  \\\n",
       "0                                  72.924   \n",
       "1                                  80.500   \n",
       "2                                  79.400   \n",
       "3                                  69.300   \n",
       "4                                  79.200   \n",
       "\n",
       "   Life expectancy at birth, total (years)  Military expenditure (% of GDP)  \\\n",
       "0                                76.372000                         0.856138   \n",
       "1                                82.500000                         2.007966   \n",
       "2                                81.643902                         0.756179   \n",
       "3                                74.129268                         1.162417   \n",
       "4                                81.492683                         0.910371   \n",
       "\n",
       "   Population, female Population, male  Tax revenue (% of GDP)  \\\n",
       "0          22572521.0       21472290.0               10.955501   \n",
       "1          12349632.0       12252228.0               21.915859   \n",
       "2           4478340.0        4319226.0               25.355237   \n",
       "3           5077542.0        4420722.0               13.019006   \n",
       "4           5766141.0        5609017.0               23.399721   \n",
       "\n",
       "   Taxes on income, profits and capital gains (% of revenue)  \\\n",
       "0                                          12.929913           \n",
       "1                                          64.110306           \n",
       "2                                          27.024073           \n",
       "3                                           2.933101           \n",
       "4                                          33.727746           \n",
       "\n",
       "   Urban population (% of total population)_y  \n",
       "0                                      91.749  \n",
       "1                                      85.904  \n",
       "2                                      58.094  \n",
       "3                                      78.134  \n",
       "4                                      97.961  \n",
       "\n",
       "[5 rows x 95 columns]"
      ]
     },
     "execution_count": 3,
     "metadata": {},
     "output_type": "execute_result"
    }
   ],
   "source": [
    "df = pd.read_csv('datos/soci_econ_country_profiles.csv', index_col=0)\n",
    "df.head()"
   ]
  },
  {
   "cell_type": "code",
   "execution_count": 29,
   "metadata": {},
   "outputs": [
    {
     "data": {
      "text/plain": [
       "-0.8911644011004426"
      ]
     },
     "execution_count": 29,
     "metadata": {},
     "output_type": "execute_result"
    }
   ],
   "source": [
    "skew(df[\"Quality Of Life Index\"])"
   ]
  },
  {
   "attachments": {},
   "cell_type": "markdown",
   "metadata": {},
   "source": [
    "4. ¿Qué tipo de curtosis presenta vuestra variable respuesta?"
   ]
  },
  {
   "cell_type": "code",
   "execution_count": 12,
   "metadata": {},
   "outputs": [
    {
     "data": {
      "text/plain": [
       "KurtosistestResult(statistic=0.9665910742213427, pvalue=0.333748498397474)"
      ]
     },
     "execution_count": 12,
     "metadata": {},
     "output_type": "execute_result"
    }
   ],
   "source": [
    "kurtosistest(df[\"Quality Of Life Index\"])"
   ]
  },
  {
   "attachments": {},
   "cell_type": "markdown",
   "metadata": {},
   "source": [
    "Es leptocurtosis."
   ]
  },
  {
   "attachments": {},
   "cell_type": "markdown",
   "metadata": {},
   "source": [
    "5. ¿Es vuestra variable respuesta normal? Demostrarlo visual y analíticamente."
   ]
  },
  {
   "cell_type": "code",
   "execution_count": 14,
   "metadata": {},
   "outputs": [
    {
     "data": {
      "text/plain": [
       "ShapiroResult(statistic=0.9264869689941406, pvalue=0.0007660986739210784)"
      ]
     },
     "execution_count": 14,
     "metadata": {},
     "output_type": "execute_result"
    }
   ],
   "source": [
    "stats.shapiro(df[\"Quality Of Life Index\"])"
   ]
  },
  {
   "cell_type": "code",
   "execution_count": 79,
   "metadata": {},
   "outputs": [
    {
     "data": {
      "image/png": "[encoded data removed]",
      "text/plain": [
       "<Figure size 432x288 with 1 Axes>"
      ]
     },
     "metadata": {
      "needs_background": "light"
     },
     "output_type": "display_data"
    }
   ],
   "source": [
    "sns.histplot(df[\"Quality Of Life Index\"], kde= True, line_kws={'lw': 2, 'ls': '-'}, color=\"lightseagreen\");"
   ]
  }
 ],
 "metadata": {
  "kernelspec": {
   "display_name": "base",
   "language": "python",
   "name": "python3"
  },
  "language_info": {
   "codemirror_mode": {
    "name": "ipython",
    "version": 3
   },
   "file_extension": ".py",
   "mimetype": "text/x-python",
   "name": "python",
   "nbconvert_exporter": "python",
   "pygments_lexer": "ipython3",
   "version": "3.9.7"
  },
  "orig_nbformat": 4
 },
 "nbformat": 4,
 "nbformat_minor": 2
}
