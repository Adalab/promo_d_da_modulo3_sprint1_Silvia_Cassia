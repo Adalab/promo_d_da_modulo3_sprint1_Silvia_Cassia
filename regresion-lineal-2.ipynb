{
 "cells": [
  {
   "attachments": {},
   "cell_type": "markdown",
   "metadata": {},
   "source": [
    "# Pair Programming Test Estadísticos"
   ]
  },
  {
   "cell_type": "code",
   "execution_count": 1,
   "metadata": {},
   "outputs": [],
   "source": [
    "import pandas as pd\n",
    "import numpy as np \n",
    "import seaborn as sns \n",
    "import matplotlib.pyplot as plt\n",
    "import warnings\n",
    "warnings.filterwarnings('ignore')\n",
    "from scipy.stats import skew\n",
    "from scipy.stats import kurtosistest\n",
    "from scipy import stats"
   ]
  },
  {
   "attachments": {},
   "cell_type": "markdown",
   "metadata": {},
   "source": [
    "En este ejercicio de pair programming seguiréis usando el dataset que seleccionasteis ayer.\n",
    "1. ¿Qué diferencia existe el error de tipo I y el error de tipo II?"
   ]
  },
  {
   "attachments": {},
   "cell_type": "markdown",
   "metadata": {},
   "source": [
    "El error de tipo I es rechazar la hipótesis nula cuando es verdadera; el error de tipo II es aceptar la hipótesis nula cuando es falsa."
   ]
  },
  {
   "attachments": {},
   "cell_type": "markdown",
   "metadata": {},
   "source": [
    "2. ¿Qué es la asimetría?"
   ]
  },
  {
   "attachments": {},
   "cell_type": "markdown",
   "metadata": {},
   "source": [
    "La falta de simetría de la distribución respecto a la media, si los datos no tienen distribución normal y están sesgados a derecha o izquierda."
   ]
  },
  {
   "attachments": {},
   "cell_type": "markdown",
   "metadata": {},
   "source": [
    "3. ¿Es vuestra variable respuesta asimétrica?"
   ]
  },
  {
   "cell_type": "code",
   "execution_count": 2,
   "metadata": {},
   "outputs": [
    {
     "data": {
      "text/html": [
       "<div>\n",
       "<style scoped>\n",
       "    .dataframe tbody tr th:only-of-type {\n",
       "        vertical-align: middle;\n",
       "    }\n",
       "\n",
       "    .dataframe tbody tr th {\n",
       "        vertical-align: top;\n",
       "    }\n",
       "\n",
       "    .dataframe thead th {\n",
       "        text-align: right;\n",
       "    }\n",
       "</style>\n",
       "<table border=\"1\" class=\"dataframe\">\n",
       "  <thead>\n",
       "    <tr style=\"text-align: right;\">\n",
       "      <th></th>\n",
       "      <th>country</th>\n",
       "      <th>Region</th>\n",
       "      <th>GDP per capita (current US$)</th>\n",
       "      <th>Employment: Agriculture (% of employed)</th>\n",
       "      <th>Employment: Services (% of employed)</th>\n",
       "      <th>Agricultural production index (2004-2006=100)</th>\n",
       "      <th>Food production index (2004-2006=100)</th>\n",
       "      <th>Urban population (% of total population)_x</th>\n",
       "      <th>Urban population growth rate (average annual %)</th>\n",
       "      <th>Fertility rate, total (live births per woman)</th>\n",
       "      <th>...</th>\n",
       "      <th>Life expectancy at birth, total (years)</th>\n",
       "      <th>Labour force participation (male pop. %)</th>\n",
       "      <th>Education: Secondary gross enrol. ratio (f per 100 pop.)</th>\n",
       "      <th>Education: Secondary gross enrol. ratio (m per 100 pop.)</th>\n",
       "      <th>Education: Tertiary gross enrol. ratio (f per 100 pop.)</th>\n",
       "      <th>Education: Tertiary gross enrol. ratio (m per 100 pop.)</th>\n",
       "      <th>Pop. using improved drinking water (urban, %)</th>\n",
       "      <th>Pop. using improved drinking water (rural, %)</th>\n",
       "      <th>Population age distribution (0-14, %)</th>\n",
       "      <th>Population age distribution (60+ years, %)</th>\n",
       "    </tr>\n",
       "  </thead>\n",
       "  <tbody>\n",
       "    <tr>\n",
       "      <th>0</th>\n",
       "      <td>Argentina</td>\n",
       "      <td>SouthAmerica</td>\n",
       "      <td>14564.5</td>\n",
       "      <td>2.0</td>\n",
       "      <td>73.1</td>\n",
       "      <td>119</td>\n",
       "      <td>119</td>\n",
       "      <td>91.8</td>\n",
       "      <td>1.0</td>\n",
       "      <td>2.3</td>\n",
       "      <td>...</td>\n",
       "      <td>76.372000</td>\n",
       "      <td>74.4</td>\n",
       "      <td>110.3</td>\n",
       "      <td>103.4</td>\n",
       "      <td>102.9</td>\n",
       "      <td>63.5</td>\n",
       "      <td>96.2</td>\n",
       "      <td>98.3</td>\n",
       "      <td>24.9</td>\n",
       "      <td>15.4</td>\n",
       "    </tr>\n",
       "    <tr>\n",
       "      <th>1</th>\n",
       "      <td>Australia</td>\n",
       "      <td>Oceania</td>\n",
       "      <td>51352.2</td>\n",
       "      <td>2.7</td>\n",
       "      <td>76.1</td>\n",
       "      <td>111</td>\n",
       "      <td>111</td>\n",
       "      <td>89.4</td>\n",
       "      <td>1.5</td>\n",
       "      <td>1.9</td>\n",
       "      <td>...</td>\n",
       "      <td>82.500000</td>\n",
       "      <td>70.7</td>\n",
       "      <td>133.6</td>\n",
       "      <td>141.3</td>\n",
       "      <td>106.3</td>\n",
       "      <td>75.4</td>\n",
       "      <td>100.0</td>\n",
       "      <td>100.0</td>\n",
       "      <td>19.0</td>\n",
       "      <td>21.0</td>\n",
       "    </tr>\n",
       "    <tr>\n",
       "      <th>2</th>\n",
       "      <td>Austria</td>\n",
       "      <td>WesternEurope</td>\n",
       "      <td>44117.7</td>\n",
       "      <td>4.7</td>\n",
       "      <td>69.7</td>\n",
       "      <td>108</td>\n",
       "      <td>108</td>\n",
       "      <td>66.0</td>\n",
       "      <td>0.4</td>\n",
       "      <td>1.4</td>\n",
       "      <td>...</td>\n",
       "      <td>81.643902</td>\n",
       "      <td>65.8</td>\n",
       "      <td>97.6</td>\n",
       "      <td>102.4</td>\n",
       "      <td>89.2</td>\n",
       "      <td>74.3</td>\n",
       "      <td>100.0</td>\n",
       "      <td>100.0</td>\n",
       "      <td>14.1</td>\n",
       "      <td>25.1</td>\n",
       "    </tr>\n",
       "    <tr>\n",
       "      <th>3</th>\n",
       "      <td>Belarus</td>\n",
       "      <td>EasternEurope</td>\n",
       "      <td>5750.8</td>\n",
       "      <td>9.6</td>\n",
       "      <td>58.4</td>\n",
       "      <td>122</td>\n",
       "      <td>122</td>\n",
       "      <td>76.7</td>\n",
       "      <td>0.0</td>\n",
       "      <td>1.6</td>\n",
       "      <td>...</td>\n",
       "      <td>74.129268</td>\n",
       "      <td>67.8</td>\n",
       "      <td>106.4</td>\n",
       "      <td>107.8</td>\n",
       "      <td>100.7</td>\n",
       "      <td>75.9</td>\n",
       "      <td>94.1</td>\n",
       "      <td>95.2</td>\n",
       "      <td>16.7</td>\n",
       "      <td>21.3</td>\n",
       "    </tr>\n",
       "    <tr>\n",
       "      <th>4</th>\n",
       "      <td>Belgium</td>\n",
       "      <td>WesternEurope</td>\n",
       "      <td>40277.8</td>\n",
       "      <td>1.2</td>\n",
       "      <td>77.6</td>\n",
       "      <td>108</td>\n",
       "      <td>107</td>\n",
       "      <td>97.9</td>\n",
       "      <td>0.5</td>\n",
       "      <td>1.8</td>\n",
       "      <td>...</td>\n",
       "      <td>81.492683</td>\n",
       "      <td>58.9</td>\n",
       "      <td>177.7</td>\n",
       "      <td>156.4</td>\n",
       "      <td>85.4</td>\n",
       "      <td>65.0</td>\n",
       "      <td>99.5</td>\n",
       "      <td>99.4</td>\n",
       "      <td>17.1</td>\n",
       "      <td>24.6</td>\n",
       "    </tr>\n",
       "  </tbody>\n",
       "</table>\n",
       "<p>5 rows × 47 columns</p>\n",
       "</div>"
      ],
      "text/plain": [
       "     country         Region  GDP per capita (current US$)  \\\n",
       "0  Argentina   SouthAmerica                       14564.5   \n",
       "1  Australia        Oceania                       51352.2   \n",
       "2    Austria  WesternEurope                       44117.7   \n",
       "3    Belarus  EasternEurope                        5750.8   \n",
       "4    Belgium  WesternEurope                       40277.8   \n",
       "\n",
       "   Employment: Agriculture (% of employed)  \\\n",
       "0                                      2.0   \n",
       "1                                      2.7   \n",
       "2                                      4.7   \n",
       "3                                      9.6   \n",
       "4                                      1.2   \n",
       "\n",
       "   Employment: Services (% of employed)  \\\n",
       "0                                  73.1   \n",
       "1                                  76.1   \n",
       "2                                  69.7   \n",
       "3                                  58.4   \n",
       "4                                  77.6   \n",
       "\n",
       "   Agricultural production index (2004-2006=100)  \\\n",
       "0                                            119   \n",
       "1                                            111   \n",
       "2                                            108   \n",
       "3                                            122   \n",
       "4                                            108   \n",
       "\n",
       "   Food production index (2004-2006=100)  \\\n",
       "0                                    119   \n",
       "1                                    111   \n",
       "2                                    108   \n",
       "3                                    122   \n",
       "4                                    107   \n",
       "\n",
       "   Urban population (% of total population)_x  \\\n",
       "0                                        91.8   \n",
       "1                                        89.4   \n",
       "2                                        66.0   \n",
       "3                                        76.7   \n",
       "4                                        97.9   \n",
       "\n",
       "   Urban population growth rate (average annual %)  \\\n",
       "0                                              1.0   \n",
       "1                                              1.5   \n",
       "2                                              0.4   \n",
       "3                                              0.0   \n",
       "4                                              0.5   \n",
       "\n",
       "   Fertility rate, total (live births per woman)  ...  \\\n",
       "0                                            2.3  ...   \n",
       "1                                            1.9  ...   \n",
       "2                                            1.4  ...   \n",
       "3                                            1.6  ...   \n",
       "4                                            1.8  ...   \n",
       "\n",
       "   Life expectancy at birth, total (years)  \\\n",
       "0                                76.372000   \n",
       "1                                82.500000   \n",
       "2                                81.643902   \n",
       "3                                74.129268   \n",
       "4                                81.492683   \n",
       "\n",
       "   Labour force participation (male pop. %)  \\\n",
       "0                                      74.4   \n",
       "1                                      70.7   \n",
       "2                                      65.8   \n",
       "3                                      67.8   \n",
       "4                                      58.9   \n",
       "\n",
       "   Education: Secondary gross enrol. ratio (f per 100 pop.)  \\\n",
       "0                                              110.3          \n",
       "1                                              133.6          \n",
       "2                                               97.6          \n",
       "3                                              106.4          \n",
       "4                                              177.7          \n",
       "\n",
       "   Education: Secondary gross enrol. ratio (m per 100 pop.)  \\\n",
       "0                                              103.4          \n",
       "1                                              141.3          \n",
       "2                                              102.4          \n",
       "3                                              107.8          \n",
       "4                                              156.4          \n",
       "\n",
       "   Education: Tertiary gross enrol. ratio (f per 100 pop.)  \\\n",
       "0                                              102.9         \n",
       "1                                              106.3         \n",
       "2                                               89.2         \n",
       "3                                              100.7         \n",
       "4                                               85.4         \n",
       "\n",
       "   Education: Tertiary gross enrol. ratio (m per 100 pop.)  \\\n",
       "0                                               63.5         \n",
       "1                                               75.4         \n",
       "2                                               74.3         \n",
       "3                                               75.9         \n",
       "4                                               65.0         \n",
       "\n",
       "   Pop. using improved drinking water (urban, %)  \\\n",
       "0                                           96.2   \n",
       "1                                          100.0   \n",
       "2                                          100.0   \n",
       "3                                           94.1   \n",
       "4                                           99.5   \n",
       "\n",
       "   Pop. using improved drinking water (rural, %)  \\\n",
       "0                                           98.3   \n",
       "1                                          100.0   \n",
       "2                                          100.0   \n",
       "3                                           95.2   \n",
       "4                                           99.4   \n",
       "\n",
       "   Population age distribution (0-14, %)  \\\n",
       "0                                   24.9   \n",
       "1                                   19.0   \n",
       "2                                   14.1   \n",
       "3                                   16.7   \n",
       "4                                   17.1   \n",
       "\n",
       "   Population age distribution (60+ years, %)  \n",
       "0                                        15.4  \n",
       "1                                        21.0  \n",
       "2                                        25.1  \n",
       "3                                        21.3  \n",
       "4                                        24.6  \n",
       "\n",
       "[5 rows x 47 columns]"
      ]
     },
     "execution_count": 2,
     "metadata": {},
     "output_type": "execute_result"
    }
   ],
   "source": [
    "df = pd.read_csv('datos/soci_econ_country_profiles_v2.csv', index_col=0)\n",
    "df.head()"
   ]
  },
  {
   "cell_type": "code",
   "execution_count": 3,
   "metadata": {},
   "outputs": [
    {
     "data": {
      "text/plain": [
       "-0.8911644011004426"
      ]
     },
     "execution_count": 3,
     "metadata": {},
     "output_type": "execute_result"
    }
   ],
   "source": [
    "skew(df[\"Quality Of Life Index\"])"
   ]
  },
  {
   "attachments": {},
   "cell_type": "markdown",
   "metadata": {},
   "source": [
    "4. ¿Qué tipo de curtosis presenta vuestra variable respuesta?"
   ]
  },
  {
   "cell_type": "code",
   "execution_count": 4,
   "metadata": {},
   "outputs": [
    {
     "data": {
      "text/plain": [
       "KurtosistestResult(statistic=0.9665910742213427, pvalue=0.333748498397474)"
      ]
     },
     "execution_count": 4,
     "metadata": {},
     "output_type": "execute_result"
    }
   ],
   "source": [
    "kurtosistest(df[\"Quality Of Life Index\"])"
   ]
  },
  {
   "attachments": {},
   "cell_type": "markdown",
   "metadata": {},
   "source": [
    "Es leptocurtosis."
   ]
  },
  {
   "attachments": {},
   "cell_type": "markdown",
   "metadata": {},
   "source": [
    "5. ¿Es vuestra variable respuesta normal? Demostrarlo visual y analíticamente."
   ]
  },
  {
   "cell_type": "code",
   "execution_count": 5,
   "metadata": {},
   "outputs": [
    {
     "data": {
      "text/plain": [
       "ShapiroResult(statistic=0.9264869689941406, pvalue=0.0007660986739210784)"
      ]
     },
     "execution_count": 5,
     "metadata": {},
     "output_type": "execute_result"
    }
   ],
   "source": [
    "stats.shapiro(df[\"Quality Of Life Index\"])"
   ]
  },
  {
   "cell_type": "code",
   "execution_count": 6,
   "metadata": {},
   "outputs": [
    {
     "data": {
      "image/png": "[encoded data removed]",
      "text/plain": [
       "<Figure size 432x288 with 1 Axes>"
      ]
     },
     "metadata": {
      "needs_background": "light"
     },
     "output_type": "display_data"
    }
   ],
   "source": [
    "sns.histplot(df[\"Quality Of Life Index\"], kde= True, line_kws={'lw': 2, 'ls': '-'}, color=\"lightseagreen\");"
   ]
  },
  {
   "attachments": {},
   "cell_type": "markdown",
   "metadata": {},
   "source": [
    "Nuestra variable respuesta no tiene una distribución normal ya que está muy sesgada a la izquierda. Se puede ver igualmente en la gráfica como en el test de Shapiro que tuvo un resultado de 0,0008, que es menor que 0,05, por tanto nuestros datos no son normales."
   ]
  }
 ],
 "metadata": {
  "kernelspec": {
   "display_name": "base",
   "language": "python",
   "name": "python3"
  },
  "language_info": {
   "codemirror_mode": {
    "name": "ipython",
    "version": 3
   },
   "file_extension": ".py",
   "mimetype": "text/x-python",
   "name": "python",
   "nbconvert_exporter": "python",
   "pygments_lexer": "ipython3",
   "version": "3.9.7"
  },
  "orig_nbformat": 4
 },
 "nbformat": 4,
 "nbformat_minor": 2
}
