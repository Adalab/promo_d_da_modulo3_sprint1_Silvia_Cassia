{
 "cells": [
  {
   "cell_type": "code",
   "execution_count": 6,
   "metadata": {},
   "outputs": [],
   "source": [
    "# Tratamiento de datos\n",
    "# -----------------------------------------------------------------------\n",
    "import pandas as pd\n",
    "\n",
    "# Para la codificación de las variables numéricas\n",
    "# -----------------------------------------------------------------------\n",
    "from sklearn.preprocessing import LabelEncoder # para realizar el Label Encoding \n",
    "from sklearn.preprocessing import OneHotEncoder  # para realizar el One-Hot Encoding\n",
    "\n",
    "# Para evitar que salgan los warnings en jupyter\n",
    "# -----------------------------------------------------------------------\n",
    "import warnings\n",
    "warnings.filterwarnings('ignore')\n",
    "import matplotlib.pyplot as plt\n",
    "import seaborn as sns"
   ]
  },
  {
   "attachments": {},
   "cell_type": "markdown",
   "metadata": {},
   "source": [
    "# Pair Programming Encoding\n",
    "\n",
    "En el pair programming de hoy usaremos el set de datos que guardastéis en el pair programming de normalización y estandarización.\n",
    "\n",
    "Vuestro set de datos debería tener al menos una variable categórica, el objetivo del pair programming de hoy:\n",
    "- Hacer una códificación de la/las variables categóricas que tengáis en vuestro set de datos.\n",
    "- Recordad que lo primero que deberéis hacer es decidir su vuestras variables tienen o no orden, para que en función de esto uséis una aproximación u otra.\n",
    "- Guardad el dataframe, donde deberíais tener las variables estadandarizas, normalizadas y codificadas en un csv para usarlo en el próximo pairprogramming"
   ]
  },
  {
   "cell_type": "code",
   "execution_count": 7,
   "metadata": {},
   "outputs": [],
   "source": [
    "pd.options.display.max_columns = None\n",
    "pd.options.display.max_rows = None"
   ]
  },
  {
   "cell_type": "code",
   "execution_count": 8,
   "metadata": {},
   "outputs": [
    {
     "data": {
      "text/html": [
       "<div>\n",
       "<style scoped>\n",
       "    .dataframe tbody tr th:only-of-type {\n",
       "        vertical-align: middle;\n",
       "    }\n",
       "\n",
       "    .dataframe tbody tr th {\n",
       "        vertical-align: top;\n",
       "    }\n",
       "\n",
       "    .dataframe thead th {\n",
       "        text-align: right;\n",
       "    }\n",
       "</style>\n",
       "<table border=\"1\" class=\"dataframe\">\n",
       "  <thead>\n",
       "    <tr style=\"text-align: right;\">\n",
       "      <th></th>\n",
       "      <th>country</th>\n",
       "      <th>Region</th>\n",
       "      <th>GDP per capita (current US$)</th>\n",
       "      <th>Employment: Agriculture (% of employed)</th>\n",
       "      <th>Employment: Services (% of employed)</th>\n",
       "      <th>Agricultural production index (2004-2006=100)</th>\n",
       "      <th>Urban population (% of total population)_x</th>\n",
       "      <th>Urban population growth rate (average annual %)</th>\n",
       "      <th>Fertility rate, total (live births per woman)</th>\n",
       "      <th>Infant mortality rate (per 1000 live births</th>\n",
       "      <th>Seats held by women in national parliaments %</th>\n",
       "      <th>Individuals using the Internet (per 100 inhabitants)</th>\n",
       "      <th>Energy production, primary (Petajoules)</th>\n",
       "      <th>Energy supply per capita (Gigajoules)</th>\n",
       "      <th>Quality Of Life Index</th>\n",
       "      <th>Purchasing Power Index</th>\n",
       "      <th>Safety Index</th>\n",
       "      <th>Health Care Index</th>\n",
       "      <th>Property price to income ratio</th>\n",
       "      <th>Traffic commute time index</th>\n",
       "      <th>Pollution index</th>\n",
       "      <th>Climate index</th>\n",
       "      <th>Affordability Index</th>\n",
       "      <th>Cost Of Living Index</th>\n",
       "      <th>Consumer price index (2010 = 100)</th>\n",
       "      <th>Current health expenditure (% of GDP)</th>\n",
       "      <th>Human capital index (HCI) (scale 0-1)</th>\n",
       "      <th>Inflation, consumer prices (annual %)</th>\n",
       "      <th>Life expectancy at birth, total (years)</th>\n",
       "      <th>Labour force participation (male pop. %)</th>\n",
       "      <th>Pop. using improved drinking water (urban, %)</th>\n",
       "      <th>Pop. using improved drinking water (rural, %)</th>\n",
       "      <th>Population age distribution (0-14, %)</th>\n",
       "      <th>Population age distribution (60+ years, %)</th>\n",
       "      <th>Education: Secondary gross enrol. ratio (per 100 pop.)</th>\n",
       "      <th>Education: Tertiary gross enrol. ratio (per 100 pop.)</th>\n",
       "    </tr>\n",
       "  </thead>\n",
       "  <tbody>\n",
       "    <tr>\n",
       "      <th>0</th>\n",
       "      <td>Argentina</td>\n",
       "      <td>SouthAmerica</td>\n",
       "      <td>-0.431499</td>\n",
       "      <td>-0.793293</td>\n",
       "      <td>0.635685</td>\n",
       "      <td>0.451515</td>\n",
       "      <td>1.176545</td>\n",
       "      <td>-0.146278</td>\n",
       "      <td>0.816818</td>\n",
       "      <td>0.390527</td>\n",
       "      <td>1.373669</td>\n",
       "      <td>-0.170271</td>\n",
       "      <td>-0.433123</td>\n",
       "      <td>-0.072257</td>\n",
       "      <td>139.59</td>\n",
       "      <td>-0.480096</td>\n",
       "      <td>-1.843490</td>\n",
       "      <td>0.739348</td>\n",
       "      <td>0.085614</td>\n",
       "      <td>0.253993</td>\n",
       "      <td>0.085118</td>\n",
       "      <td>1.031920</td>\n",
       "      <td>-1.242902</td>\n",
       "      <td>-0.124619</td>\n",
       "      <td>-0.375346</td>\n",
       "      <td>0.595817</td>\n",
       "      <td>-0.661735</td>\n",
       "      <td>-0.179334</td>\n",
       "      <td>-0.356054</td>\n",
       "      <td>0.526225</td>\n",
       "      <td>0.213117</td>\n",
       "      <td>0.576120</td>\n",
       "      <td>0.983668</td>\n",
       "      <td>-0.481642</td>\n",
       "      <td>0.119029</td>\n",
       "      <td>0.928674</td>\n",
       "    </tr>\n",
       "    <tr>\n",
       "      <th>1</th>\n",
       "      <td>Australia</td>\n",
       "      <td>Oceania</td>\n",
       "      <td>1.358804</td>\n",
       "      <td>-0.729591</td>\n",
       "      <td>0.874487</td>\n",
       "      <td>-0.051041</td>\n",
       "      <td>1.039907</td>\n",
       "      <td>0.271660</td>\n",
       "      <td>0.093270</td>\n",
       "      <td>-0.510644</td>\n",
       "      <td>0.436646</td>\n",
       "      <td>1.674834</td>\n",
       "      <td>0.729295</td>\n",
       "      <td>0.579071</td>\n",
       "      <td>176.54</td>\n",
       "      <td>1.024540</td>\n",
       "      <td>-0.270524</td>\n",
       "      <td>0.839394</td>\n",
       "      <td>-0.461542</td>\n",
       "      <td>-0.207625</td>\n",
       "      <td>-1.254411</td>\n",
       "      <td>0.556493</td>\n",
       "      <td>0.080872</td>\n",
       "      <td>1.230619</td>\n",
       "      <td>-0.300239</td>\n",
       "      <td>0.626171</td>\n",
       "      <td>1.061166</td>\n",
       "      <td>-0.270570</td>\n",
       "      <td>1.069555</td>\n",
       "      <td>0.052782</td>\n",
       "      <td>0.675804</td>\n",
       "      <td>0.681506</td>\n",
       "      <td>-0.044663</td>\n",
       "      <td>0.256053</td>\n",
       "      <td>1.643795</td>\n",
       "      <td>1.272043</td>\n",
       "    </tr>\n",
       "  </tbody>\n",
       "</table>\n",
       "</div>"
      ],
      "text/plain": [
       "     country        Region  GDP per capita (current US$)  \\\n",
       "0  Argentina  SouthAmerica                     -0.431499   \n",
       "1  Australia       Oceania                      1.358804   \n",
       "\n",
       "   Employment: Agriculture (% of employed)  \\\n",
       "0                                -0.793293   \n",
       "1                                -0.729591   \n",
       "\n",
       "   Employment: Services (% of employed)  \\\n",
       "0                              0.635685   \n",
       "1                              0.874487   \n",
       "\n",
       "   Agricultural production index (2004-2006=100)  \\\n",
       "0                                       0.451515   \n",
       "1                                      -0.051041   \n",
       "\n",
       "   Urban population (% of total population)_x  \\\n",
       "0                                    1.176545   \n",
       "1                                    1.039907   \n",
       "\n",
       "   Urban population growth rate (average annual %)  \\\n",
       "0                                        -0.146278   \n",
       "1                                         0.271660   \n",
       "\n",
       "   Fertility rate, total (live births per woman)  \\\n",
       "0                                       0.816818   \n",
       "1                                       0.093270   \n",
       "\n",
       "   Infant mortality rate (per 1000 live births  \\\n",
       "0                                     0.390527   \n",
       "1                                    -0.510644   \n",
       "\n",
       "   Seats held by women in national parliaments %  \\\n",
       "0                                       1.373669   \n",
       "1                                       0.436646   \n",
       "\n",
       "   Individuals using the Internet (per 100 inhabitants)  \\\n",
       "0                                          -0.170271      \n",
       "1                                           1.674834      \n",
       "\n",
       "   Energy production, primary (Petajoules)  \\\n",
       "0                                -0.433123   \n",
       "1                                 0.729295   \n",
       "\n",
       "   Energy supply per capita (Gigajoules)  Quality Of Life Index  \\\n",
       "0                              -0.072257                 139.59   \n",
       "1                               0.579071                 176.54   \n",
       "\n",
       "   Purchasing Power Index  Safety Index  Health Care Index  \\\n",
       "0               -0.480096     -1.843490           0.739348   \n",
       "1                1.024540     -0.270524           0.839394   \n",
       "\n",
       "   Property price to income ratio  Traffic commute time index  \\\n",
       "0                        0.085614                    0.253993   \n",
       "1                       -0.461542                   -0.207625   \n",
       "\n",
       "   Pollution index  Climate index  Affordability Index  Cost Of Living Index  \\\n",
       "0         0.085118       1.031920            -1.242902             -0.124619   \n",
       "1        -1.254411       0.556493             0.080872              1.230619   \n",
       "\n",
       "   Consumer price index (2010 = 100)  Current health expenditure (% of GDP)  \\\n",
       "0                          -0.375346                               0.595817   \n",
       "1                          -0.300239                               0.626171   \n",
       "\n",
       "   Human capital index (HCI) (scale 0-1)  \\\n",
       "0                              -0.661735   \n",
       "1                               1.061166   \n",
       "\n",
       "   Inflation, consumer prices (annual %)  \\\n",
       "0                              -0.179334   \n",
       "1                              -0.270570   \n",
       "\n",
       "   Life expectancy at birth, total (years)  \\\n",
       "0                                -0.356054   \n",
       "1                                 1.069555   \n",
       "\n",
       "   Labour force participation (male pop. %)  \\\n",
       "0                                  0.526225   \n",
       "1                                  0.052782   \n",
       "\n",
       "   Pop. using improved drinking water (urban, %)  \\\n",
       "0                                       0.213117   \n",
       "1                                       0.675804   \n",
       "\n",
       "   Pop. using improved drinking water (rural, %)  \\\n",
       "0                                       0.576120   \n",
       "1                                       0.681506   \n",
       "\n",
       "   Population age distribution (0-14, %)  \\\n",
       "0                               0.983668   \n",
       "1                              -0.044663   \n",
       "\n",
       "   Population age distribution (60+ years, %)  \\\n",
       "0                                   -0.481642   \n",
       "1                                    0.256053   \n",
       "\n",
       "   Education: Secondary gross enrol. ratio (per 100 pop.)  \\\n",
       "0                                           0.119029        \n",
       "1                                           1.643795        \n",
       "\n",
       "   Education: Tertiary gross enrol. ratio (per 100 pop.)  \n",
       "0                                           0.928674      \n",
       "1                                           1.272043      "
      ]
     },
     "execution_count": 8,
     "metadata": {},
     "output_type": "execute_result"
    }
   ],
   "source": [
    "df = pd.read_csv('datos/soci_econ_country_profiles_v5.csv', index_col=0)\n",
    "df.head(2)"
   ]
  },
  {
   "cell_type": "code",
   "execution_count": 9,
   "metadata": {},
   "outputs": [
    {
     "data": {
      "text/plain": [
       "array(['SouthAmerica', 'Oceania', 'WesternEurope', 'EasternEurope',\n",
       "       'SouthernEurope', 'NorthernAmerica', 'EasternAsia', 'WesternAsia',\n",
       "       'NorthernEurope', 'NorthernAfrica', 'SouthernAsia',\n",
       "       'South-easternAsia', 'CentralAmerica', 'SouthernAfrica'],\n",
       "      dtype=object)"
      ]
     },
     "execution_count": 9,
     "metadata": {},
     "output_type": "execute_result"
    }
   ],
   "source": [
    "df[\"Region\"].unique()"
   ]
  },
  {
   "cell_type": "code",
   "execution_count": 13,
   "metadata": {},
   "outputs": [
    {
     "data": {
      "image/png": "[encoded data removed]",
      "text/plain": [
       "<Figure size 1440x720 with 1 Axes>"
      ]
     },
     "metadata": {
      "needs_background": "light"
     },
     "output_type": "display_data"
    }
   ],
   "source": [
    "plt.figure(figsize = (20, 10))\n",
    "sns.boxplot(x= \"Region\", y = \"Quality Of Life Index\", data = df)\n",
    "plt.tick_params(rotation = 45);"
   ]
  },
  {
   "cell_type": "code",
   "execution_count": 18,
   "metadata": {},
   "outputs": [],
   "source": [
    "df_grupo1 = df[df[\"Region\"].isin([\"Oceania\", \"WesternEurope\", \"NorthernAmerica\", \"NorthernEurope\"])]\n",
    "media_QOL_1 = df_grupo1[\"Quality Of Life Index\"].mean()"
   ]
  },
  {
   "cell_type": "code",
   "execution_count": 19,
   "metadata": {},
   "outputs": [],
   "source": [
    "df_grupo2 = df[df[\"Region\"].isin([\"SouthAmerica\", \"EasternEurope\", \"SouthernEurope\", \"EasternAsia\", \"WesternAsia\", \"CentralAmerica\", \"SouthernAfrica\"])]\n",
    "media_QOL_2 = df_grupo2[\"Quality Of Life Index\"].mean()"
   ]
  },
  {
   "cell_type": "code",
   "execution_count": 20,
   "metadata": {},
   "outputs": [],
   "source": [
    "df_grupo3 = df[df[\"Region\"].isin([\"NorthernAfrica\", \"SouthernAsia\", \"South-easternAsia\"])]\n",
    "media_QOL_3 = df_grupo3[\"Quality Of Life Index\"].mean()"
   ]
  },
  {
   "cell_type": "code",
   "execution_count": 21,
   "metadata": {},
   "outputs": [
    {
     "data": {
      "text/plain": [
       "1.2510430874236744"
      ]
     },
     "execution_count": 21,
     "metadata": {},
     "output_type": "execute_result"
    }
   ],
   "source": [
    "media_QOL_1 / media_QOL_2"
   ]
  },
  {
   "cell_type": "code",
   "execution_count": 22,
   "metadata": {},
   "outputs": [
    {
     "data": {
      "text/plain": [
       "2.3052043139620717"
      ]
     },
     "execution_count": 22,
     "metadata": {},
     "output_type": "execute_result"
    }
   ],
   "source": [
    "media_QOL_1 / media_QOL_3"
   ]
  },
  {
   "cell_type": "code",
   "execution_count": 23,
   "metadata": {},
   "outputs": [
    {
     "data": {
      "text/plain": [
       "1.8426258353013851"
      ]
     },
     "execution_count": 23,
     "metadata": {},
     "output_type": "execute_result"
    }
   ],
   "source": [
    "media_QOL_2 / media_QOL_3"
   ]
  },
  {
   "cell_type": "code",
   "execution_count": 29,
   "metadata": {},
   "outputs": [
    {
     "name": "stdout",
     "output_type": "stream",
     "text": [
      "172.52777777777774\n",
      "137.90714285714287\n",
      "74.84272727272729\n"
     ]
    }
   ],
   "source": [
    "print(media_QOL_1) #2.3\n",
    "print(media_QOL_2) #1.84\n",
    "print(media_QOL_3) #1"
   ]
  },
  {
   "cell_type": "code",
   "execution_count": null,
   "metadata": {},
   "outputs": [],
   "source": []
  }
 ],
 "metadata": {
  "kernelspec": {
   "display_name": "base",
   "language": "python",
   "name": "python3"
  },
  "language_info": {
   "codemirror_mode": {
    "name": "ipython",
    "version": 3
   },
   "file_extension": ".py",
   "mimetype": "text/x-python",
   "name": "python",
   "nbconvert_exporter": "python",
   "pygments_lexer": "ipython3",
   "version": "3.9.7"
  },
  "orig_nbformat": 4
 },
 "nbformat": 4,
 "nbformat_minor": 2
}
