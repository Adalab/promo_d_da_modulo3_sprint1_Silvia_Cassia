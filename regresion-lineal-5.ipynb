{
 "cells": [
  {
   "cell_type": "code",
   "execution_count": 36,
   "metadata": {},
   "outputs": [],
   "source": [
    "import pandas as pd\n",
    "import numpy as np \n",
    "import seaborn as sns \n",
    "import matplotlib.pyplot as plt\n",
    "import warnings\n",
    "warnings.filterwarnings('ignore')\n",
    "from scipy import stats\n",
    "from sklearn.preprocessing import MinMaxScaler\n",
    "import math "
   ]
  },
  {
   "attachments": {},
   "cell_type": "markdown",
   "metadata": {},
   "source": [
    "# Pair Programming Normalización"
   ]
  },
  {
   "attachments": {},
   "cell_type": "markdown",
   "metadata": {},
   "source": [
    "En este ejercicio de pair programming seguiréis usando el dataset que seleccionasteis.\n",
    "\n",
    "\n",
    "En vuestro dataset habréis identificado unas variables predictoras y una variable respuesta. Los objetivos del pair programming de hoy son:"
   ]
  },
  {
   "attachments": {},
   "cell_type": "markdown",
   "metadata": {},
   "source": [
    "- Sobre la variable respuesta, en pair programmings anterior identificastéis si seguía una distribución normal o no. En caso de que no siguiera una distribución normal, normalizarla. Podéis usar el método que prefiráis o el que mejor se ajuste"
   ]
  },
  {
   "attachments": {},
   "cell_type": "markdown",
   "metadata": {},
   "source": [
    "- Guardar en un csv el nuevo dataframe que habéis creado para seguir usándolo en los siguientes pair programmings"
   ]
  },
  {
   "cell_type": "code",
   "execution_count": 37,
   "metadata": {},
   "outputs": [],
   "source": [
    "pd.options.display.max_columns = None\n",
    "pd.options.display.max_rows = None"
   ]
  },
  {
   "cell_type": "code",
   "execution_count": 38,
   "metadata": {},
   "outputs": [
    {
     "data": {
      "text/html": [
       "<div>\n",
       "<style scoped>\n",
       "    .dataframe tbody tr th:only-of-type {\n",
       "        vertical-align: middle;\n",
       "    }\n",
       "\n",
       "    .dataframe tbody tr th {\n",
       "        vertical-align: top;\n",
       "    }\n",
       "\n",
       "    .dataframe thead th {\n",
       "        text-align: right;\n",
       "    }\n",
       "</style>\n",
       "<table border=\"1\" class=\"dataframe\">\n",
       "  <thead>\n",
       "    <tr style=\"text-align: right;\">\n",
       "      <th></th>\n",
       "      <th>country</th>\n",
       "      <th>Region</th>\n",
       "      <th>GDP per capita (current US$)</th>\n",
       "      <th>Employment: Agriculture (% of employed)</th>\n",
       "      <th>Employment: Services (% of employed)</th>\n",
       "      <th>Agricultural production index (2004-2006=100)</th>\n",
       "      <th>Urban population (% of total population)_x</th>\n",
       "      <th>Urban population growth rate (average annual %)</th>\n",
       "      <th>Fertility rate, total (live births per woman)</th>\n",
       "      <th>Infant mortality rate (per 1000 live births</th>\n",
       "      <th>Seats held by women in national parliaments %</th>\n",
       "      <th>Individuals using the Internet (per 100 inhabitants)</th>\n",
       "      <th>Energy production, primary (Petajoules)</th>\n",
       "      <th>Energy supply per capita (Gigajoules)</th>\n",
       "      <th>Quality Of Life Index</th>\n",
       "      <th>Purchasing Power Index</th>\n",
       "      <th>Safety Index</th>\n",
       "      <th>Health Care Index</th>\n",
       "      <th>Property price to income ratio</th>\n",
       "      <th>Traffic commute time index</th>\n",
       "      <th>Pollution index</th>\n",
       "      <th>Climate index</th>\n",
       "      <th>Affordability Index</th>\n",
       "      <th>Cost Of Living Index</th>\n",
       "      <th>Consumer price index (2010 = 100)</th>\n",
       "      <th>Current health expenditure (% of GDP)</th>\n",
       "      <th>Human capital index (HCI) (scale 0-1)</th>\n",
       "      <th>Inflation, consumer prices (annual %)</th>\n",
       "      <th>Life expectancy at birth, total (years)</th>\n",
       "      <th>Labour force participation (male pop. %)</th>\n",
       "      <th>Pop. using improved drinking water (urban, %)</th>\n",
       "      <th>Pop. using improved drinking water (rural, %)</th>\n",
       "      <th>Population age distribution (0-14, %)</th>\n",
       "      <th>Population age distribution (60+ years, %)</th>\n",
       "      <th>Education: Secondary gross enrol. ratio (per 100 pop.)</th>\n",
       "      <th>Education: Tertiary gross enrol. ratio (per 100 pop.)</th>\n",
       "    </tr>\n",
       "  </thead>\n",
       "  <tbody>\n",
       "    <tr>\n",
       "      <th>0</th>\n",
       "      <td>Argentina</td>\n",
       "      <td>SouthAmerica</td>\n",
       "      <td>14564.5</td>\n",
       "      <td>2.0</td>\n",
       "      <td>73.1</td>\n",
       "      <td>119</td>\n",
       "      <td>91.8</td>\n",
       "      <td>1.0</td>\n",
       "      <td>2.3</td>\n",
       "      <td>13.7</td>\n",
       "      <td>38.9</td>\n",
       "      <td>256</td>\n",
       "      <td>85</td>\n",
       "      <td>99.0</td>\n",
       "      <td>139.59</td>\n",
       "      <td>58.40</td>\n",
       "      <td>37.37</td>\n",
       "      <td>73.30</td>\n",
       "      <td>12.07</td>\n",
       "      <td>37.95</td>\n",
       "      <td>53.33</td>\n",
       "      <td>90.67</td>\n",
       "      <td>0.30</td>\n",
       "      <td>52.57</td>\n",
       "      <td>112.887108</td>\n",
       "      <td>9.124315</td>\n",
       "      <td>0.611</td>\n",
       "      <td>NaN</td>\n",
       "      <td>76.372000</td>\n",
       "      <td>74.4</td>\n",
       "      <td>96.2</td>\n",
       "      <td>98.3</td>\n",
       "      <td>24.9</td>\n",
       "      <td>15.4</td>\n",
       "      <td>106.85</td>\n",
       "      <td>83.20</td>\n",
       "    </tr>\n",
       "    <tr>\n",
       "      <th>1</th>\n",
       "      <td>Australia</td>\n",
       "      <td>Oceania</td>\n",
       "      <td>51352.2</td>\n",
       "      <td>2.7</td>\n",
       "      <td>76.1</td>\n",
       "      <td>111</td>\n",
       "      <td>89.4</td>\n",
       "      <td>1.5</td>\n",
       "      <td>1.9</td>\n",
       "      <td>3.9</td>\n",
       "      <td>28.7</td>\n",
       "      <td>948</td>\n",
       "      <td>222</td>\n",
       "      <td>100.0</td>\n",
       "      <td>176.54</td>\n",
       "      <td>101.94</td>\n",
       "      <td>57.58</td>\n",
       "      <td>74.25</td>\n",
       "      <td>9.24</td>\n",
       "      <td>34.73</td>\n",
       "      <td>24.58</td>\n",
       "      <td>72.79</td>\n",
       "      <td>1.41</td>\n",
       "      <td>80.66</td>\n",
       "      <td>115.686785</td>\n",
       "      <td>9.205948</td>\n",
       "      <td>0.803</td>\n",
       "      <td>1.948647</td>\n",
       "      <td>82.500000</td>\n",
       "      <td>70.7</td>\n",
       "      <td>100.0</td>\n",
       "      <td>100.0</td>\n",
       "      <td>19.0</td>\n",
       "      <td>21.0</td>\n",
       "      <td>137.45</td>\n",
       "      <td>90.85</td>\n",
       "    </tr>\n",
       "    <tr>\n",
       "      <th>2</th>\n",
       "      <td>Austria</td>\n",
       "      <td>WesternEurope</td>\n",
       "      <td>44117.7</td>\n",
       "      <td>4.7</td>\n",
       "      <td>69.7</td>\n",
       "      <td>108</td>\n",
       "      <td>66.0</td>\n",
       "      <td>0.4</td>\n",
       "      <td>1.4</td>\n",
       "      <td>3.3</td>\n",
       "      <td>30.6</td>\n",
       "      <td>118</td>\n",
       "      <td>158</td>\n",
       "      <td>100.0</td>\n",
       "      <td>190.37</td>\n",
       "      <td>95.66</td>\n",
       "      <td>80.75</td>\n",
       "      <td>80.91</td>\n",
       "      <td>9.66</td>\n",
       "      <td>26.27</td>\n",
       "      <td>21.90</td>\n",
       "      <td>62.13</td>\n",
       "      <td>1.69</td>\n",
       "      <td>71.52</td>\n",
       "      <td>113.999737</td>\n",
       "      <td>10.396617</td>\n",
       "      <td>0.793</td>\n",
       "      <td>2.081269</td>\n",
       "      <td>81.643902</td>\n",
       "      <td>65.8</td>\n",
       "      <td>100.0</td>\n",
       "      <td>100.0</td>\n",
       "      <td>14.1</td>\n",
       "      <td>25.1</td>\n",
       "      <td>100.00</td>\n",
       "      <td>81.75</td>\n",
       "    </tr>\n",
       "    <tr>\n",
       "      <th>3</th>\n",
       "      <td>Belarus</td>\n",
       "      <td>EasternEurope</td>\n",
       "      <td>5750.8</td>\n",
       "      <td>9.6</td>\n",
       "      <td>58.4</td>\n",
       "      <td>122</td>\n",
       "      <td>76.7</td>\n",
       "      <td>0.0</td>\n",
       "      <td>1.6</td>\n",
       "      <td>3.6</td>\n",
       "      <td>34.5</td>\n",
       "      <td>25</td>\n",
       "      <td>122</td>\n",
       "      <td>99.9</td>\n",
       "      <td>119.23</td>\n",
       "      <td>36.43</td>\n",
       "      <td>77.74</td>\n",
       "      <td>53.76</td>\n",
       "      <td>18.73</td>\n",
       "      <td>27.66</td>\n",
       "      <td>39.64</td>\n",
       "      <td>20.07</td>\n",
       "      <td>0.17</td>\n",
       "      <td>33.84</td>\n",
       "      <td>NaN</td>\n",
       "      <td>5.925786</td>\n",
       "      <td>NaN</td>\n",
       "      <td>6.031837</td>\n",
       "      <td>74.129268</td>\n",
       "      <td>67.8</td>\n",
       "      <td>94.1</td>\n",
       "      <td>95.2</td>\n",
       "      <td>16.7</td>\n",
       "      <td>21.3</td>\n",
       "      <td>107.10</td>\n",
       "      <td>88.30</td>\n",
       "    </tr>\n",
       "    <tr>\n",
       "      <th>4</th>\n",
       "      <td>Belgium</td>\n",
       "      <td>WesternEurope</td>\n",
       "      <td>40277.8</td>\n",
       "      <td>1.2</td>\n",
       "      <td>77.6</td>\n",
       "      <td>108</td>\n",
       "      <td>97.9</td>\n",
       "      <td>0.5</td>\n",
       "      <td>1.8</td>\n",
       "      <td>3.5</td>\n",
       "      <td>38.0</td>\n",
       "      <td>37</td>\n",
       "      <td>196</td>\n",
       "      <td>100.0</td>\n",
       "      <td>160.52</td>\n",
       "      <td>91.02</td>\n",
       "      <td>55.49</td>\n",
       "      <td>78.92</td>\n",
       "      <td>6.96</td>\n",
       "      <td>36.26</td>\n",
       "      <td>48.92</td>\n",
       "      <td>75.16</td>\n",
       "      <td>2.24</td>\n",
       "      <td>75.36</td>\n",
       "      <td>113.128903</td>\n",
       "      <td>10.338669</td>\n",
       "      <td>0.757</td>\n",
       "      <td>2.125971</td>\n",
       "      <td>81.492683</td>\n",
       "      <td>58.9</td>\n",
       "      <td>99.5</td>\n",
       "      <td>99.4</td>\n",
       "      <td>17.1</td>\n",
       "      <td>24.6</td>\n",
       "      <td>167.05</td>\n",
       "      <td>75.20</td>\n",
       "    </tr>\n",
       "  </tbody>\n",
       "</table>\n",
       "</div>"
      ],
      "text/plain": [
       "     country         Region  GDP per capita (current US$)  \\\n",
       "0  Argentina   SouthAmerica                       14564.5   \n",
       "1  Australia        Oceania                       51352.2   \n",
       "2    Austria  WesternEurope                       44117.7   \n",
       "3    Belarus  EasternEurope                        5750.8   \n",
       "4    Belgium  WesternEurope                       40277.8   \n",
       "\n",
       "   Employment: Agriculture (% of employed)  \\\n",
       "0                                      2.0   \n",
       "1                                      2.7   \n",
       "2                                      4.7   \n",
       "3                                      9.6   \n",
       "4                                      1.2   \n",
       "\n",
       "   Employment: Services (% of employed)  \\\n",
       "0                                  73.1   \n",
       "1                                  76.1   \n",
       "2                                  69.7   \n",
       "3                                  58.4   \n",
       "4                                  77.6   \n",
       "\n",
       "   Agricultural production index (2004-2006=100)  \\\n",
       "0                                            119   \n",
       "1                                            111   \n",
       "2                                            108   \n",
       "3                                            122   \n",
       "4                                            108   \n",
       "\n",
       "   Urban population (% of total population)_x  \\\n",
       "0                                        91.8   \n",
       "1                                        89.4   \n",
       "2                                        66.0   \n",
       "3                                        76.7   \n",
       "4                                        97.9   \n",
       "\n",
       "   Urban population growth rate (average annual %)  \\\n",
       "0                                              1.0   \n",
       "1                                              1.5   \n",
       "2                                              0.4   \n",
       "3                                              0.0   \n",
       "4                                              0.5   \n",
       "\n",
       "   Fertility rate, total (live births per woman)  \\\n",
       "0                                            2.3   \n",
       "1                                            1.9   \n",
       "2                                            1.4   \n",
       "3                                            1.6   \n",
       "4                                            1.8   \n",
       "\n",
       "   Infant mortality rate (per 1000 live births  \\\n",
       "0                                         13.7   \n",
       "1                                          3.9   \n",
       "2                                          3.3   \n",
       "3                                          3.6   \n",
       "4                                          3.5   \n",
       "\n",
       "   Seats held by women in national parliaments %  \\\n",
       "0                                           38.9   \n",
       "1                                           28.7   \n",
       "2                                           30.6   \n",
       "3                                           34.5   \n",
       "4                                           38.0   \n",
       "\n",
       "   Individuals using the Internet (per 100 inhabitants)  \\\n",
       "0                                                256      \n",
       "1                                                948      \n",
       "2                                                118      \n",
       "3                                                 25      \n",
       "4                                                 37      \n",
       "\n",
       "   Energy production, primary (Petajoules)  \\\n",
       "0                                       85   \n",
       "1                                      222   \n",
       "2                                      158   \n",
       "3                                      122   \n",
       "4                                      196   \n",
       "\n",
       "   Energy supply per capita (Gigajoules)  Quality Of Life Index  \\\n",
       "0                                   99.0                 139.59   \n",
       "1                                  100.0                 176.54   \n",
       "2                                  100.0                 190.37   \n",
       "3                                   99.9                 119.23   \n",
       "4                                  100.0                 160.52   \n",
       "\n",
       "   Purchasing Power Index  Safety Index  Health Care Index  \\\n",
       "0                   58.40         37.37              73.30   \n",
       "1                  101.94         57.58              74.25   \n",
       "2                   95.66         80.75              80.91   \n",
       "3                   36.43         77.74              53.76   \n",
       "4                   91.02         55.49              78.92   \n",
       "\n",
       "   Property price to income ratio  Traffic commute time index  \\\n",
       "0                           12.07                       37.95   \n",
       "1                            9.24                       34.73   \n",
       "2                            9.66                       26.27   \n",
       "3                           18.73                       27.66   \n",
       "4                            6.96                       36.26   \n",
       "\n",
       "   Pollution index  Climate index  Affordability Index  Cost Of Living Index  \\\n",
       "0            53.33          90.67                 0.30                 52.57   \n",
       "1            24.58          72.79                 1.41                 80.66   \n",
       "2            21.90          62.13                 1.69                 71.52   \n",
       "3            39.64          20.07                 0.17                 33.84   \n",
       "4            48.92          75.16                 2.24                 75.36   \n",
       "\n",
       "   Consumer price index (2010 = 100)  Current health expenditure (% of GDP)  \\\n",
       "0                         112.887108                               9.124315   \n",
       "1                         115.686785                               9.205948   \n",
       "2                         113.999737                              10.396617   \n",
       "3                                NaN                               5.925786   \n",
       "4                         113.128903                              10.338669   \n",
       "\n",
       "   Human capital index (HCI) (scale 0-1)  \\\n",
       "0                                  0.611   \n",
       "1                                  0.803   \n",
       "2                                  0.793   \n",
       "3                                    NaN   \n",
       "4                                  0.757   \n",
       "\n",
       "   Inflation, consumer prices (annual %)  \\\n",
       "0                                    NaN   \n",
       "1                               1.948647   \n",
       "2                               2.081269   \n",
       "3                               6.031837   \n",
       "4                               2.125971   \n",
       "\n",
       "   Life expectancy at birth, total (years)  \\\n",
       "0                                76.372000   \n",
       "1                                82.500000   \n",
       "2                                81.643902   \n",
       "3                                74.129268   \n",
       "4                                81.492683   \n",
       "\n",
       "   Labour force participation (male pop. %)  \\\n",
       "0                                      74.4   \n",
       "1                                      70.7   \n",
       "2                                      65.8   \n",
       "3                                      67.8   \n",
       "4                                      58.9   \n",
       "\n",
       "   Pop. using improved drinking water (urban, %)  \\\n",
       "0                                           96.2   \n",
       "1                                          100.0   \n",
       "2                                          100.0   \n",
       "3                                           94.1   \n",
       "4                                           99.5   \n",
       "\n",
       "   Pop. using improved drinking water (rural, %)  \\\n",
       "0                                           98.3   \n",
       "1                                          100.0   \n",
       "2                                          100.0   \n",
       "3                                           95.2   \n",
       "4                                           99.4   \n",
       "\n",
       "   Population age distribution (0-14, %)  \\\n",
       "0                                   24.9   \n",
       "1                                   19.0   \n",
       "2                                   14.1   \n",
       "3                                   16.7   \n",
       "4                                   17.1   \n",
       "\n",
       "   Population age distribution (60+ years, %)  \\\n",
       "0                                        15.4   \n",
       "1                                        21.0   \n",
       "2                                        25.1   \n",
       "3                                        21.3   \n",
       "4                                        24.6   \n",
       "\n",
       "   Education: Secondary gross enrol. ratio (per 100 pop.)  \\\n",
       "0                                             106.85        \n",
       "1                                             137.45        \n",
       "2                                             100.00        \n",
       "3                                             107.10        \n",
       "4                                             167.05        \n",
       "\n",
       "   Education: Tertiary gross enrol. ratio (per 100 pop.)  \n",
       "0                                              83.20      \n",
       "1                                              90.85      \n",
       "2                                              81.75      \n",
       "3                                              88.30      \n",
       "4                                              75.20      "
      ]
     },
     "execution_count": 38,
     "metadata": {},
     "output_type": "execute_result"
    }
   ],
   "source": [
    "df = pd.read_csv('datos/soci_econ_country_profiles_v3.csv', index_col=0)\n",
    "df.head()"
   ]
  },
  {
   "attachments": {},
   "cell_type": "markdown",
   "metadata": {},
   "source": [
    "### Metodo Manual"
   ]
  },
  {
   "cell_type": "code",
   "execution_count": 39,
   "metadata": {},
   "outputs": [
    {
     "data": {
      "text/plain": [
       "<seaborn.axisgrid.FacetGrid at 0x7fbbf5f45f70>"
      ]
     },
     "execution_count": 39,
     "metadata": {},
     "output_type": "execute_result"
    },
    {
     "data": {
      "image/png": "[encoded data removed]",
      "text/plain": [
       "<Figure size 360x360 with 1 Axes>"
      ]
     },
     "metadata": {
      "needs_background": "light"
     },
     "output_type": "display_data"
    }
   ],
   "source": [
    "sns.displot(x='Quality Of Life Index', data=df, kde=True)"
   ]
  },
  {
   "cell_type": "code",
   "execution_count": 40,
   "metadata": {},
   "outputs": [
    {
     "data": {
      "text/plain": [
       "ShapiroResult(statistic=0.9352680444717407, pvalue=0.0020942906849086285)"
      ]
     },
     "execution_count": 40,
     "metadata": {},
     "output_type": "execute_result"
    }
   ],
   "source": [
    "stats.shapiro(df[\"Quality Of Life Index\"])"
   ]
  },
  {
   "cell_type": "code",
   "execution_count": 41,
   "metadata": {},
   "outputs": [],
   "source": [
    "media = df[\"Quality Of Life Index\"].mean()\n",
    "maximo = df[\"Quality Of Life Index\"].max() \n",
    "minimo = df[\"Quality Of Life Index\"].min()"
   ]
  },
  {
   "cell_type": "code",
   "execution_count": 42,
   "metadata": {},
   "outputs": [],
   "source": [
    "df[\"QOL_NORM\"] = (df[\"Quality Of Life Index\"] - media) / (maximo - minimo )"
   ]
  },
  {
   "cell_type": "code",
   "execution_count": 43,
   "metadata": {},
   "outputs": [
    {
     "data": {
      "text/plain": [
       "<seaborn.axisgrid.FacetGrid at 0x7fbbf617c2e0>"
      ]
     },
     "execution_count": 43,
     "metadata": {},
     "output_type": "execute_result"
    },
    {
     "data": {
      "image/png": "[encoded data removed]",
      "text/plain": [
       "<Figure size 360x360 with 1 Axes>"
      ]
     },
     "metadata": {
      "needs_background": "light"
     },
     "output_type": "display_data"
    }
   ],
   "source": [
    "sns.displot(x='QOL_NORM', data=df, kde=True)"
   ]
  },
  {
   "cell_type": "code",
   "execution_count": 44,
   "metadata": {},
   "outputs": [
    {
     "data": {
      "text/plain": [
       "ShapiroResult(statistic=0.9352684020996094, pvalue=0.002094366354867816)"
      ]
     },
     "execution_count": 44,
     "metadata": {},
     "output_type": "execute_result"
    }
   ],
   "source": [
    "stats.shapiro(df[\"QOL_NORM\"])"
   ]
  },
  {
   "attachments": {},
   "cell_type": "markdown",
   "metadata": {},
   "source": [
    "### Método Logarítmica"
   ]
  },
  {
   "cell_type": "code",
   "execution_count": 45,
   "metadata": {},
   "outputs": [],
   "source": [
    "df[\"QOL_LOG\"] = df[\"Quality Of Life Index\"].apply(lambda x: np.log(x) if x > 0 else 0)"
   ]
  },
  {
   "cell_type": "code",
   "execution_count": 46,
   "metadata": {},
   "outputs": [
    {
     "data": {
      "text/plain": [
       "<seaborn.axisgrid.FacetGrid at 0x7fbbf5f38e20>"
      ]
     },
     "execution_count": 46,
     "metadata": {},
     "output_type": "execute_result"
    },
    {
     "data": {
      "image/png": "[encoded data removed]",
      "text/plain": [
       "<Figure size 360x360 with 1 Axes>"
      ]
     },
     "metadata": {
      "needs_background": "light"
     },
     "output_type": "display_data"
    }
   ],
   "source": [
    "sns.displot(x='QOL_LOG', data=df, kde=True)"
   ]
  },
  {
   "cell_type": "code",
   "execution_count": 47,
   "metadata": {},
   "outputs": [
    {
     "data": {
      "text/plain": [
       "ShapiroResult(statistic=0.8544697761535645, pvalue=1.9384474398975726e-06)"
      ]
     },
     "execution_count": 47,
     "metadata": {},
     "output_type": "execute_result"
    }
   ],
   "source": [
    "stats.shapiro(df[\"QOL_LOG\"])"
   ]
  },
  {
   "attachments": {},
   "cell_type": "markdown",
   "metadata": {},
   "source": [
    "### Método Raíz Cuadrado"
   ]
  },
  {
   "cell_type": "code",
   "execution_count": 48,
   "metadata": {},
   "outputs": [],
   "source": [
    "df[\"QOL_RAIZ\"] = df[\"Quality Of Life Index\"].apply(lambda x: math.sqrt(x))"
   ]
  },
  {
   "cell_type": "code",
   "execution_count": 49,
   "metadata": {},
   "outputs": [
    {
     "data": {
      "text/plain": [
       "<seaborn.axisgrid.FacetGrid at 0x7fbbf5d98220>"
      ]
     },
     "execution_count": 49,
     "metadata": {},
     "output_type": "execute_result"
    },
    {
     "data": {
      "image/png": "[encoded data removed]",
      "text/plain": [
       "<Figure size 360x360 with 1 Axes>"
      ]
     },
     "metadata": {
      "needs_background": "light"
     },
     "output_type": "display_data"
    }
   ],
   "source": [
    "sns.displot(x='QOL_RAIZ', data=df, kde=True)"
   ]
  },
  {
   "attachments": {},
   "cell_type": "markdown",
   "metadata": {},
   "source": [
    "### Método MinMaxScaler"
   ]
  },
  {
   "cell_type": "code",
   "execution_count": 51,
   "metadata": {},
   "outputs": [
    {
     "data": {
      "text/plain": [
       "MinMaxScaler()"
      ]
     },
     "execution_count": 51,
     "metadata": {},
     "output_type": "execute_result"
    }
   ],
   "source": [
    "numericas = df.select_dtypes(include = np.number)\n",
    "minmax = MinMaxScaler()\n",
    "minmax.fit(df[['Quality Of Life Index']])"
   ]
  },
  {
   "cell_type": "code",
   "execution_count": 52,
   "metadata": {},
   "outputs": [],
   "source": [
    "X_normalizadas = minmax.transform(df[[\"Quality Of Life Index\"]])\n",
    "numericas_minmax = pd.DataFrame(X_normalizadas, columns = [\"QOL_MinMaxScaler\"])"
   ]
  },
  {
   "cell_type": "code",
   "execution_count": 53,
   "metadata": {},
   "outputs": [
    {
     "data": {
      "text/html": [
       "<div>\n",
       "<style scoped>\n",
       "    .dataframe tbody tr th:only-of-type {\n",
       "        vertical-align: middle;\n",
       "    }\n",
       "\n",
       "    .dataframe tbody tr th {\n",
       "        vertical-align: top;\n",
       "    }\n",
       "\n",
       "    .dataframe thead th {\n",
       "        text-align: right;\n",
       "    }\n",
       "</style>\n",
       "<table border=\"1\" class=\"dataframe\">\n",
       "  <thead>\n",
       "    <tr style=\"text-align: right;\">\n",
       "      <th></th>\n",
       "      <th>country</th>\n",
       "      <th>Region</th>\n",
       "      <th>GDP per capita (current US$)</th>\n",
       "      <th>Employment: Agriculture (% of employed)</th>\n",
       "      <th>Employment: Services (% of employed)</th>\n",
       "      <th>Agricultural production index (2004-2006=100)</th>\n",
       "      <th>Urban population (% of total population)_x</th>\n",
       "      <th>Urban population growth rate (average annual %)</th>\n",
       "      <th>Fertility rate, total (live births per woman)</th>\n",
       "      <th>Infant mortality rate (per 1000 live births</th>\n",
       "      <th>Seats held by women in national parliaments %</th>\n",
       "      <th>Individuals using the Internet (per 100 inhabitants)</th>\n",
       "      <th>Energy production, primary (Petajoules)</th>\n",
       "      <th>Energy supply per capita (Gigajoules)</th>\n",
       "      <th>Quality Of Life Index</th>\n",
       "      <th>Purchasing Power Index</th>\n",
       "      <th>Safety Index</th>\n",
       "      <th>Health Care Index</th>\n",
       "      <th>Property price to income ratio</th>\n",
       "      <th>Traffic commute time index</th>\n",
       "      <th>Pollution index</th>\n",
       "      <th>Climate index</th>\n",
       "      <th>Affordability Index</th>\n",
       "      <th>Cost Of Living Index</th>\n",
       "      <th>Consumer price index (2010 = 100)</th>\n",
       "      <th>Current health expenditure (% of GDP)</th>\n",
       "      <th>Human capital index (HCI) (scale 0-1)</th>\n",
       "      <th>Inflation, consumer prices (annual %)</th>\n",
       "      <th>Life expectancy at birth, total (years)</th>\n",
       "      <th>Labour force participation (male pop. %)</th>\n",
       "      <th>Pop. using improved drinking water (urban, %)</th>\n",
       "      <th>Pop. using improved drinking water (rural, %)</th>\n",
       "      <th>Population age distribution (0-14, %)</th>\n",
       "      <th>Population age distribution (60+ years, %)</th>\n",
       "      <th>Education: Secondary gross enrol. ratio (per 100 pop.)</th>\n",
       "      <th>Education: Tertiary gross enrol. ratio (per 100 pop.)</th>\n",
       "      <th>QOL_NORM</th>\n",
       "      <th>QOL_LOG</th>\n",
       "      <th>QOL_RAIZ</th>\n",
       "      <th>QOL_MinMaxScaler</th>\n",
       "    </tr>\n",
       "  </thead>\n",
       "  <tbody>\n",
       "    <tr>\n",
       "      <th>0</th>\n",
       "      <td>Argentina</td>\n",
       "      <td>SouthAmerica</td>\n",
       "      <td>14564.5</td>\n",
       "      <td>2.0</td>\n",
       "      <td>73.1</td>\n",
       "      <td>119</td>\n",
       "      <td>91.8</td>\n",
       "      <td>1.0</td>\n",
       "      <td>2.3</td>\n",
       "      <td>13.7</td>\n",
       "      <td>38.9</td>\n",
       "      <td>256</td>\n",
       "      <td>85</td>\n",
       "      <td>99.0</td>\n",
       "      <td>139.59</td>\n",
       "      <td>58.40</td>\n",
       "      <td>37.37</td>\n",
       "      <td>73.30</td>\n",
       "      <td>12.07</td>\n",
       "      <td>37.95</td>\n",
       "      <td>53.33</td>\n",
       "      <td>90.67</td>\n",
       "      <td>0.30</td>\n",
       "      <td>52.57</td>\n",
       "      <td>112.887108</td>\n",
       "      <td>9.124315</td>\n",
       "      <td>0.611</td>\n",
       "      <td>NaN</td>\n",
       "      <td>76.372</td>\n",
       "      <td>74.4</td>\n",
       "      <td>96.2</td>\n",
       "      <td>98.3</td>\n",
       "      <td>24.9</td>\n",
       "      <td>15.4</td>\n",
       "      <td>106.85</td>\n",
       "      <td>83.20</td>\n",
       "      <td>0.022280</td>\n",
       "      <td>4.938710</td>\n",
       "      <td>11.814821</td>\n",
       "      <td>0.670794</td>\n",
       "    </tr>\n",
       "    <tr>\n",
       "      <th>1</th>\n",
       "      <td>Australia</td>\n",
       "      <td>Oceania</td>\n",
       "      <td>51352.2</td>\n",
       "      <td>2.7</td>\n",
       "      <td>76.1</td>\n",
       "      <td>111</td>\n",
       "      <td>89.4</td>\n",
       "      <td>1.5</td>\n",
       "      <td>1.9</td>\n",
       "      <td>3.9</td>\n",
       "      <td>28.7</td>\n",
       "      <td>948</td>\n",
       "      <td>222</td>\n",
       "      <td>100.0</td>\n",
       "      <td>176.54</td>\n",
       "      <td>101.94</td>\n",
       "      <td>57.58</td>\n",
       "      <td>74.25</td>\n",
       "      <td>9.24</td>\n",
       "      <td>34.73</td>\n",
       "      <td>24.58</td>\n",
       "      <td>72.79</td>\n",
       "      <td>1.41</td>\n",
       "      <td>80.66</td>\n",
       "      <td>115.686785</td>\n",
       "      <td>9.205948</td>\n",
       "      <td>0.803</td>\n",
       "      <td>1.948647</td>\n",
       "      <td>82.500</td>\n",
       "      <td>70.7</td>\n",
       "      <td>100.0</td>\n",
       "      <td>100.0</td>\n",
       "      <td>19.0</td>\n",
       "      <td>21.0</td>\n",
       "      <td>137.45</td>\n",
       "      <td>90.85</td>\n",
       "      <td>0.261826</td>\n",
       "      <td>5.173547</td>\n",
       "      <td>13.286836</td>\n",
       "      <td>0.910340</td>\n",
       "    </tr>\n",
       "  </tbody>\n",
       "</table>\n",
       "</div>"
      ],
      "text/plain": [
       "     country        Region  GDP per capita (current US$)  \\\n",
       "0  Argentina  SouthAmerica                       14564.5   \n",
       "1  Australia       Oceania                       51352.2   \n",
       "\n",
       "   Employment: Agriculture (% of employed)  \\\n",
       "0                                      2.0   \n",
       "1                                      2.7   \n",
       "\n",
       "   Employment: Services (% of employed)  \\\n",
       "0                                  73.1   \n",
       "1                                  76.1   \n",
       "\n",
       "   Agricultural production index (2004-2006=100)  \\\n",
       "0                                            119   \n",
       "1                                            111   \n",
       "\n",
       "   Urban population (% of total population)_x  \\\n",
       "0                                        91.8   \n",
       "1                                        89.4   \n",
       "\n",
       "   Urban population growth rate (average annual %)  \\\n",
       "0                                              1.0   \n",
       "1                                              1.5   \n",
       "\n",
       "   Fertility rate, total (live births per woman)  \\\n",
       "0                                            2.3   \n",
       "1                                            1.9   \n",
       "\n",
       "   Infant mortality rate (per 1000 live births  \\\n",
       "0                                         13.7   \n",
       "1                                          3.9   \n",
       "\n",
       "   Seats held by women in national parliaments %  \\\n",
       "0                                           38.9   \n",
       "1                                           28.7   \n",
       "\n",
       "   Individuals using the Internet (per 100 inhabitants)  \\\n",
       "0                                                256      \n",
       "1                                                948      \n",
       "\n",
       "   Energy production, primary (Petajoules)  \\\n",
       "0                                       85   \n",
       "1                                      222   \n",
       "\n",
       "   Energy supply per capita (Gigajoules)  Quality Of Life Index  \\\n",
       "0                                   99.0                 139.59   \n",
       "1                                  100.0                 176.54   \n",
       "\n",
       "   Purchasing Power Index  Safety Index  Health Care Index  \\\n",
       "0                   58.40         37.37              73.30   \n",
       "1                  101.94         57.58              74.25   \n",
       "\n",
       "   Property price to income ratio  Traffic commute time index  \\\n",
       "0                           12.07                       37.95   \n",
       "1                            9.24                       34.73   \n",
       "\n",
       "   Pollution index  Climate index  Affordability Index  Cost Of Living Index  \\\n",
       "0            53.33          90.67                 0.30                 52.57   \n",
       "1            24.58          72.79                 1.41                 80.66   \n",
       "\n",
       "   Consumer price index (2010 = 100)  Current health expenditure (% of GDP)  \\\n",
       "0                         112.887108                               9.124315   \n",
       "1                         115.686785                               9.205948   \n",
       "\n",
       "   Human capital index (HCI) (scale 0-1)  \\\n",
       "0                                  0.611   \n",
       "1                                  0.803   \n",
       "\n",
       "   Inflation, consumer prices (annual %)  \\\n",
       "0                                    NaN   \n",
       "1                               1.948647   \n",
       "\n",
       "   Life expectancy at birth, total (years)  \\\n",
       "0                                   76.372   \n",
       "1                                   82.500   \n",
       "\n",
       "   Labour force participation (male pop. %)  \\\n",
       "0                                      74.4   \n",
       "1                                      70.7   \n",
       "\n",
       "   Pop. using improved drinking water (urban, %)  \\\n",
       "0                                           96.2   \n",
       "1                                          100.0   \n",
       "\n",
       "   Pop. using improved drinking water (rural, %)  \\\n",
       "0                                           98.3   \n",
       "1                                          100.0   \n",
       "\n",
       "   Population age distribution (0-14, %)  \\\n",
       "0                                   24.9   \n",
       "1                                   19.0   \n",
       "\n",
       "   Population age distribution (60+ years, %)  \\\n",
       "0                                        15.4   \n",
       "1                                        21.0   \n",
       "\n",
       "   Education: Secondary gross enrol. ratio (per 100 pop.)  \\\n",
       "0                                             106.85        \n",
       "1                                             137.45        \n",
       "\n",
       "   Education: Tertiary gross enrol. ratio (per 100 pop.)  QOL_NORM   QOL_LOG  \\\n",
       "0                                              83.20      0.022280  4.938710   \n",
       "1                                              90.85      0.261826  5.173547   \n",
       "\n",
       "    QOL_RAIZ  QOL_MinMaxScaler  \n",
       "0  11.814821          0.670794  \n",
       "1  13.286836          0.910340  "
      ]
     },
     "execution_count": 53,
     "metadata": {},
     "output_type": "execute_result"
    }
   ],
   "source": [
    "df[\"QOL_MinMaxScaler\"] = numericas_minmax\n",
    "df.head(2)"
   ]
  },
  {
   "cell_type": "code",
   "execution_count": 54,
   "metadata": {},
   "outputs": [
    {
     "data": {
      "image/png": "[encoded data removed]",
      "text/plain": [
       "<Figure size 1080x360 with 2 Axes>"
      ]
     },
     "metadata": {
      "needs_background": "light"
     },
     "output_type": "display_data"
    }
   ],
   "source": [
    "fig, axes = plt.subplots(1, 2, figsize = (15,5))\n",
    "\n",
    "axes[0].set_title('QOL Index original')\n",
    "axes[1].set_title('QOL Index normalizado')\n",
    "\n",
    "sns.distplot(df['Quality Of Life Index'] ,ax = axes[0])\n",
    "sns.distplot(df['QOL_MinMaxScaler'], ax = axes[1]);"
   ]
  },
  {
   "cell_type": "code",
   "execution_count": 55,
   "metadata": {},
   "outputs": [
    {
     "data": {
      "text/plain": [
       "ShapiroResult(statistic=nan, pvalue=1.0)"
      ]
     },
     "execution_count": 55,
     "metadata": {},
     "output_type": "execute_result"
    }
   ],
   "source": [
    "stats.shapiro(df[\"QOL_MinMaxScaler\"])"
   ]
  },
  {
   "attachments": {},
   "cell_type": "markdown",
   "metadata": {},
   "source": [
    "### Método BoxCox"
   ]
  },
  {
   "cell_type": "code",
   "execution_count": 56,
   "metadata": {},
   "outputs": [],
   "source": [
    "df['QOL_BOX'], lambda_ajustada = stats.boxcox(df['Quality Of Life Index'])"
   ]
  },
  {
   "cell_type": "code",
   "execution_count": 57,
   "metadata": {},
   "outputs": [
    {
     "data": {
      "image/png": "[encoded data removed]",
      "text/plain": [
       "<Figure size 1080x360 with 2 Axes>"
      ]
     },
     "metadata": {
      "needs_background": "light"
     },
     "output_type": "display_data"
    }
   ],
   "source": [
    "fig, axes = plt.subplots(1, 2, figsize = (15,5))\n",
    "\n",
    "axes[0].set_title('QOL Index original')\n",
    "axes[1].set_title('QOL Index normalizado')\n",
    "\n",
    "sns.distplot(df['Quality Of Life Index'] ,ax = axes[0])\n",
    "sns.distplot(df['QOL_BOX'], ax = axes[1]);"
   ]
  },
  {
   "cell_type": "code",
   "execution_count": 58,
   "metadata": {},
   "outputs": [
    {
     "data": {
      "text/plain": [
       "ShapiroResult(statistic=0.9555918574333191, pvalue=0.020299848169088364)"
      ]
     },
     "execution_count": 58,
     "metadata": {},
     "output_type": "execute_result"
    }
   ],
   "source": [
    "stats.shapiro(df[\"QOL_BOX\"])"
   ]
  },
  {
   "attachments": {},
   "cell_type": "markdown",
   "metadata": {},
   "source": [
    "No conseguimos normalizar a nuestro variable respuesta con ningúno de los métodos."
   ]
  },
  {
   "cell_type": "code",
   "execution_count": 60,
   "metadata": {},
   "outputs": [],
   "source": [
    "df.to_csv('datos/soci_econ_country_profiles_v4.csv')"
   ]
  }
 ],
 "metadata": {
  "kernelspec": {
   "display_name": "base",
   "language": "python",
   "name": "python3"
  },
  "language_info": {
   "codemirror_mode": {
    "name": "ipython",
    "version": 3
   },
   "file_extension": ".py",
   "mimetype": "text/x-python",
   "name": "python",
   "nbconvert_exporter": "python",
   "pygments_lexer": "ipython3",
   "version": "3.9.7"
  },
  "orig_nbformat": 4
 },
 "nbformat": 4,
 "nbformat_minor": 2
}
